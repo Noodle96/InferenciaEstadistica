{
  "nbformat": 4,
  "nbformat_minor": 0,
  "metadata": {
    "colab": {
      "provenance": [],
      "include_colab_link": true
    },
    "kernelspec": {
      "name": "ir",
      "display_name": "R"
    },
    "language_info": {
      "name": "R"
    }
  },
  "cells": [
    {
      "cell_type": "markdown",
      "metadata": {
        "id": "view-in-github",
        "colab_type": "text"
      },
      "source": [
        "<a href=\"https://colab.research.google.com/github/Noodle96/InferenciaEstadistica/blob/main/sesion_01_muestreo.ipynb\" target=\"_parent\"><img src=\"https://colab.research.google.com/assets/colab-badge.svg\" alt=\"Open In Colab\"/></a>"
      ]
    },
    {
      "cell_type": "markdown",
      "source": [
        "<img src=\"https://drive.google.com/uc?export=view&id=1pqIhlzdorBk5rt-2jFHcF8YCNudJfW4t\" width=\"100\"> \n",
        "\n",
        "$\\tiny{Universidad \\ Nacional \\ de \\ San \\ Agustín \\ de \\ Arequipa \\\\\n",
        "Facultad \\ de \\ Ciencias \\ Naturales \\ y \\ Formales\\\\\n",
        "Departamento \\ Acad\\acute{e}\n",
        "mico \\ de \\ Estad\\acute{i}stica}$"
      ],
      "metadata": {
        "id": "hcbMgKE3fD8J"
      }
    },
    {
      "cell_type": "markdown",
      "source": [
        "# <center>  $Primera \\ Unidad$\n",
        "### <center> $Muestreo$"
      ],
      "metadata": {
        "id": "fCx6ESSTgLTB"
      }
    },
    {
      "cell_type": "markdown",
      "source": [
        "# **Muestreo aleatorio simple**"
      ],
      "metadata": {
        "id": "7R6CYT9SL9hO"
      }
    },
    {
      "cell_type": "markdown",
      "source": [
        "Generacion de numeros aleatorios usando la instruccion $sample$"
      ],
      "metadata": {
        "id": "im4oyg1DMGyk"
      }
    },
    {
      "cell_type": "markdown",
      "source": [
        "**Sesión de Laboratorio 01:** Muestreo\n",
        "\n",
        "**Escuela Profesional:** Matemàtica\n",
        "\n",
        "**Profesor:** Sergio Aquise\n",
        "\n",
        "**Alumno:** Jorge Alfredo Tito Ccahuaya\n",
        "\n",
        "---\n"
      ],
      "metadata": {
        "id": "hwOWoDKSgbf1"
      }
    },
    {
      "cell_type": "code",
      "execution_count": null,
      "metadata": {
        "colab": {
          "base_uri": "https://localhost:8080/",
          "height": 34
        },
        "id": "HRfe8bJQLusy",
        "outputId": "63dae063-e86e-4578-80ec-a3a91d3a1cef"
      },
      "outputs": [
        {
          "output_type": "display_data",
          "data": {
            "text/html": [
              "<style>\n",
              ".list-inline {list-style: none; margin:0; padding: 0}\n",
              ".list-inline>li {display: inline-block}\n",
              ".list-inline>li:not(:last-child)::after {content: \"\\00b7\"; padding: 0 .5ex}\n",
              "</style>\n",
              "<ol class=list-inline><li>1</li><li>2</li><li>3</li><li>4</li><li>5</li><li>6</li><li>7</li><li>8</li><li>9</li><li>10</li><li>11</li><li>12</li><li>13</li><li>14</li><li>15</li></ol>\n"
            ],
            "text/markdown": "1. 1\n2. 2\n3. 3\n4. 4\n5. 5\n6. 6\n7. 7\n8. 8\n9. 9\n10. 10\n11. 11\n12. 12\n13. 13\n14. 14\n15. 15\n\n\n",
            "text/latex": "\\begin{enumerate*}\n\\item 1\n\\item 2\n\\item 3\n\\item 4\n\\item 5\n\\item 6\n\\item 7\n\\item 8\n\\item 9\n\\item 10\n\\item 11\n\\item 12\n\\item 13\n\\item 14\n\\item 15\n\\end{enumerate*}\n",
            "text/plain": [
              " [1]  1  2  3  4  5  6  7  8  9 10 11 12 13 14 15"
            ]
          },
          "metadata": {}
        }
      ],
      "source": [
        "x=1:15\n",
        "x"
      ]
    },
    {
      "cell_type": "markdown",
      "source": [
        "**Usando la base de cars**"
      ],
      "metadata": {
        "id": "5v96dm7tPHF0"
      }
    },
    {
      "cell_type": "code",
      "source": [
        "sample(x,4)"
      ],
      "metadata": {
        "colab": {
          "base_uri": "https://localhost:8080/",
          "height": 34
        },
        "id": "UkQV1UgUOELr",
        "outputId": "4991f558-3ec7-4d3c-d3d2-52dc10ab5f12"
      },
      "execution_count": null,
      "outputs": [
        {
          "output_type": "display_data",
          "data": {
            "text/html": [
              "<style>\n",
              ".list-inline {list-style: none; margin:0; padding: 0}\n",
              ".list-inline>li {display: inline-block}\n",
              ".list-inline>li:not(:last-child)::after {content: \"\\00b7\"; padding: 0 .5ex}\n",
              "</style>\n",
              "<ol class=list-inline><li>14</li><li>8</li><li>5</li><li>11</li></ol>\n"
            ],
            "text/markdown": "1. 14\n2. 8\n3. 5\n4. 11\n\n\n",
            "text/latex": "\\begin{enumerate*}\n\\item 14\n\\item 8\n\\item 5\n\\item 11\n\\end{enumerate*}\n",
            "text/plain": [
              "[1] 14  8  5 11"
            ]
          },
          "metadata": {}
        }
      ]
    },
    {
      "cell_type": "code",
      "source": [
        "help(\"for\")\n"
      ],
      "metadata": {
        "id": "SxWOC_Q1flUd"
      },
      "execution_count": null,
      "outputs": []
    },
    {
      "cell_type": "code",
      "source": [
        "cars"
      ],
      "metadata": {
        "colab": {
          "base_uri": "https://localhost:8080/",
          "height": 1682
        },
        "id": "9sV8hWjUPF3E",
        "outputId": "74ea5f96-9e83-4be7-ae66-ca4438856bd9"
      },
      "execution_count": null,
      "outputs": [
        {
          "output_type": "display_data",
          "data": {
            "text/html": [
              "<table class=\"dataframe\">\n",
              "<caption>A data.frame: 50 × 2</caption>\n",
              "<thead>\n",
              "\t<tr><th scope=col>speed</th><th scope=col>dist</th></tr>\n",
              "\t<tr><th scope=col>&lt;dbl&gt;</th><th scope=col>&lt;dbl&gt;</th></tr>\n",
              "</thead>\n",
              "<tbody>\n",
              "\t<tr><td> 4</td><td>  2</td></tr>\n",
              "\t<tr><td> 4</td><td> 10</td></tr>\n",
              "\t<tr><td> 7</td><td>  4</td></tr>\n",
              "\t<tr><td> 7</td><td> 22</td></tr>\n",
              "\t<tr><td> 8</td><td> 16</td></tr>\n",
              "\t<tr><td> 9</td><td> 10</td></tr>\n",
              "\t<tr><td>10</td><td> 18</td></tr>\n",
              "\t<tr><td>10</td><td> 26</td></tr>\n",
              "\t<tr><td>10</td><td> 34</td></tr>\n",
              "\t<tr><td>11</td><td> 17</td></tr>\n",
              "\t<tr><td>11</td><td> 28</td></tr>\n",
              "\t<tr><td>12</td><td> 14</td></tr>\n",
              "\t<tr><td>12</td><td> 20</td></tr>\n",
              "\t<tr><td>12</td><td> 24</td></tr>\n",
              "\t<tr><td>12</td><td> 28</td></tr>\n",
              "\t<tr><td>13</td><td> 26</td></tr>\n",
              "\t<tr><td>13</td><td> 34</td></tr>\n",
              "\t<tr><td>13</td><td> 34</td></tr>\n",
              "\t<tr><td>13</td><td> 46</td></tr>\n",
              "\t<tr><td>14</td><td> 26</td></tr>\n",
              "\t<tr><td>14</td><td> 36</td></tr>\n",
              "\t<tr><td>14</td><td> 60</td></tr>\n",
              "\t<tr><td>14</td><td> 80</td></tr>\n",
              "\t<tr><td>15</td><td> 20</td></tr>\n",
              "\t<tr><td>15</td><td> 26</td></tr>\n",
              "\t<tr><td>15</td><td> 54</td></tr>\n",
              "\t<tr><td>16</td><td> 32</td></tr>\n",
              "\t<tr><td>16</td><td> 40</td></tr>\n",
              "\t<tr><td>17</td><td> 32</td></tr>\n",
              "\t<tr><td>17</td><td> 40</td></tr>\n",
              "\t<tr><td>17</td><td> 50</td></tr>\n",
              "\t<tr><td>18</td><td> 42</td></tr>\n",
              "\t<tr><td>18</td><td> 56</td></tr>\n",
              "\t<tr><td>18</td><td> 76</td></tr>\n",
              "\t<tr><td>18</td><td> 84</td></tr>\n",
              "\t<tr><td>19</td><td> 36</td></tr>\n",
              "\t<tr><td>19</td><td> 46</td></tr>\n",
              "\t<tr><td>19</td><td> 68</td></tr>\n",
              "\t<tr><td>20</td><td> 32</td></tr>\n",
              "\t<tr><td>20</td><td> 48</td></tr>\n",
              "\t<tr><td>20</td><td> 52</td></tr>\n",
              "\t<tr><td>20</td><td> 56</td></tr>\n",
              "\t<tr><td>20</td><td> 64</td></tr>\n",
              "\t<tr><td>22</td><td> 66</td></tr>\n",
              "\t<tr><td>23</td><td> 54</td></tr>\n",
              "\t<tr><td>24</td><td> 70</td></tr>\n",
              "\t<tr><td>24</td><td> 92</td></tr>\n",
              "\t<tr><td>24</td><td> 93</td></tr>\n",
              "\t<tr><td>24</td><td>120</td></tr>\n",
              "\t<tr><td>25</td><td> 85</td></tr>\n",
              "</tbody>\n",
              "</table>\n"
            ],
            "text/markdown": "\nA data.frame: 50 × 2\n\n| speed &lt;dbl&gt; | dist &lt;dbl&gt; |\n|---|---|\n|  4 |   2 |\n|  4 |  10 |\n|  7 |   4 |\n|  7 |  22 |\n|  8 |  16 |\n|  9 |  10 |\n| 10 |  18 |\n| 10 |  26 |\n| 10 |  34 |\n| 11 |  17 |\n| 11 |  28 |\n| 12 |  14 |\n| 12 |  20 |\n| 12 |  24 |\n| 12 |  28 |\n| 13 |  26 |\n| 13 |  34 |\n| 13 |  34 |\n| 13 |  46 |\n| 14 |  26 |\n| 14 |  36 |\n| 14 |  60 |\n| 14 |  80 |\n| 15 |  20 |\n| 15 |  26 |\n| 15 |  54 |\n| 16 |  32 |\n| 16 |  40 |\n| 17 |  32 |\n| 17 |  40 |\n| 17 |  50 |\n| 18 |  42 |\n| 18 |  56 |\n| 18 |  76 |\n| 18 |  84 |\n| 19 |  36 |\n| 19 |  46 |\n| 19 |  68 |\n| 20 |  32 |\n| 20 |  48 |\n| 20 |  52 |\n| 20 |  56 |\n| 20 |  64 |\n| 22 |  66 |\n| 23 |  54 |\n| 24 |  70 |\n| 24 |  92 |\n| 24 |  93 |\n| 24 | 120 |\n| 25 |  85 |\n\n",
            "text/latex": "A data.frame: 50 × 2\n\\begin{tabular}{ll}\n speed & dist\\\\\n <dbl> & <dbl>\\\\\n\\hline\n\t  4 &   2\\\\\n\t  4 &  10\\\\\n\t  7 &   4\\\\\n\t  7 &  22\\\\\n\t  8 &  16\\\\\n\t  9 &  10\\\\\n\t 10 &  18\\\\\n\t 10 &  26\\\\\n\t 10 &  34\\\\\n\t 11 &  17\\\\\n\t 11 &  28\\\\\n\t 12 &  14\\\\\n\t 12 &  20\\\\\n\t 12 &  24\\\\\n\t 12 &  28\\\\\n\t 13 &  26\\\\\n\t 13 &  34\\\\\n\t 13 &  34\\\\\n\t 13 &  46\\\\\n\t 14 &  26\\\\\n\t 14 &  36\\\\\n\t 14 &  60\\\\\n\t 14 &  80\\\\\n\t 15 &  20\\\\\n\t 15 &  26\\\\\n\t 15 &  54\\\\\n\t 16 &  32\\\\\n\t 16 &  40\\\\\n\t 17 &  32\\\\\n\t 17 &  40\\\\\n\t 17 &  50\\\\\n\t 18 &  42\\\\\n\t 18 &  56\\\\\n\t 18 &  76\\\\\n\t 18 &  84\\\\\n\t 19 &  36\\\\\n\t 19 &  46\\\\\n\t 19 &  68\\\\\n\t 20 &  32\\\\\n\t 20 &  48\\\\\n\t 20 &  52\\\\\n\t 20 &  56\\\\\n\t 20 &  64\\\\\n\t 22 &  66\\\\\n\t 23 &  54\\\\\n\t 24 &  70\\\\\n\t 24 &  92\\\\\n\t 24 &  93\\\\\n\t 24 & 120\\\\\n\t 25 &  85\\\\\n\\end{tabular}\n",
            "text/plain": [
              "   speed dist\n",
              "1   4      2 \n",
              "2   4     10 \n",
              "3   7      4 \n",
              "4   7     22 \n",
              "5   8     16 \n",
              "6   9     10 \n",
              "7  10     18 \n",
              "8  10     26 \n",
              "9  10     34 \n",
              "10 11     17 \n",
              "11 11     28 \n",
              "12 12     14 \n",
              "13 12     20 \n",
              "14 12     24 \n",
              "15 12     28 \n",
              "16 13     26 \n",
              "17 13     34 \n",
              "18 13     34 \n",
              "19 13     46 \n",
              "20 14     26 \n",
              "21 14     36 \n",
              "22 14     60 \n",
              "23 14     80 \n",
              "24 15     20 \n",
              "25 15     26 \n",
              "26 15     54 \n",
              "27 16     32 \n",
              "28 16     40 \n",
              "29 17     32 \n",
              "30 17     40 \n",
              "31 17     50 \n",
              "32 18     42 \n",
              "33 18     56 \n",
              "34 18     76 \n",
              "35 18     84 \n",
              "36 19     36 \n",
              "37 19     46 \n",
              "38 19     68 \n",
              "39 20     32 \n",
              "40 20     48 \n",
              "41 20     52 \n",
              "42 20     56 \n",
              "43 20     64 \n",
              "44 22     66 \n",
              "45 23     54 \n",
              "46 24     70 \n",
              "47 24     92 \n",
              "48 24     93 \n",
              "49 24    120 \n",
              "50 25     85 "
            ]
          },
          "metadata": {}
        }
      ]
    },
    {
      "cell_type": "markdown",
      "source": [
        "Tomamos los datos del dato numero 15 al dato numero 20 la columna 1, **speed**"
      ],
      "metadata": {
        "id": "pAqurZVFPhmB"
      }
    },
    {
      "cell_type": "code",
      "source": [
        "cars[15:20,1]"
      ],
      "metadata": {
        "colab": {
          "base_uri": "https://localhost:8080/",
          "height": 34
        },
        "id": "8vORHpeAPhBp",
        "outputId": "57e65909-bd7f-4106-81d0-5bae8db2df06"
      },
      "execution_count": null,
      "outputs": [
        {
          "output_type": "display_data",
          "data": {
            "text/html": [
              "<style>\n",
              ".list-inline {list-style: none; margin:0; padding: 0}\n",
              ".list-inline>li {display: inline-block}\n",
              ".list-inline>li:not(:last-child)::after {content: \"\\00b7\"; padding: 0 .5ex}\n",
              "</style>\n",
              "<ol class=list-inline><li>12</li><li>13</li><li>13</li><li>13</li><li>13</li><li>14</li></ol>\n"
            ],
            "text/markdown": "1. 12\n2. 13\n3. 13\n4. 13\n5. 13\n6. 14\n\n\n",
            "text/latex": "\\begin{enumerate*}\n\\item 12\n\\item 13\n\\item 13\n\\item 13\n\\item 13\n\\item 14\n\\end{enumerate*}\n",
            "text/plain": [
              "[1] 12 13 13 13 13 14"
            ]
          },
          "metadata": {}
        }
      ]
    },
    {
      "cell_type": "markdown",
      "source": [
        "Tomamos los datos del dato numero 3 al dato numero 10 segunda columna 2,   **dist**"
      ],
      "metadata": {
        "id": "n51fpHQJHu73"
      }
    },
    {
      "cell_type": "markdown",
      "source": [],
      "metadata": {
        "id": "T_WWjAeqiB27"
      }
    },
    {
      "cell_type": "code",
      "source": [
        "cars[3:10,2]"
      ],
      "metadata": {
        "colab": {
          "base_uri": "https://localhost:8080/",
          "height": 34
        },
        "id": "4HnKDdiBQgwu",
        "outputId": "8a0d82f8-1755-42b6-9fa7-99ae1031640a"
      },
      "execution_count": null,
      "outputs": [
        {
          "output_type": "display_data",
          "data": {
            "text/html": [
              "<style>\n",
              ".list-inline {list-style: none; margin:0; padding: 0}\n",
              ".list-inline>li {display: inline-block}\n",
              ".list-inline>li:not(:last-child)::after {content: \"\\00b7\"; padding: 0 .5ex}\n",
              "</style>\n",
              "<ol class=list-inline><li>4</li><li>22</li><li>16</li><li>10</li><li>18</li><li>26</li><li>34</li><li>17</li></ol>\n"
            ],
            "text/markdown": "1. 4\n2. 22\n3. 16\n4. 10\n5. 18\n6. 26\n7. 34\n8. 17\n\n\n",
            "text/latex": "\\begin{enumerate*}\n\\item 4\n\\item 22\n\\item 16\n\\item 10\n\\item 18\n\\item 26\n\\item 34\n\\item 17\n\\end{enumerate*}\n",
            "text/plain": [
              "[1]  4 22 16 10 18 26 34 17"
            ]
          },
          "metadata": {}
        }
      ]
    },
    {
      "cell_type": "markdown",
      "source": [
        "Tomamos los datos del dato numero 2 al dato numero 7; de la columna 1 a la columna 2, **speed** y **dist**"
      ],
      "metadata": {
        "id": "alWo3gqVIPnL"
      }
    },
    {
      "cell_type": "code",
      "source": [
        "cars[2:7,1:2]"
      ],
      "metadata": {
        "colab": {
          "base_uri": "https://localhost:8080/",
          "height": 286
        },
        "id": "E5zx2x16RKV1",
        "outputId": "383531da-3462-484f-97f9-42be85d780f1"
      },
      "execution_count": null,
      "outputs": [
        {
          "output_type": "display_data",
          "data": {
            "text/html": [
              "<table class=\"dataframe\">\n",
              "<caption>A data.frame: 6 × 2</caption>\n",
              "<thead>\n",
              "\t<tr><th></th><th scope=col>speed</th><th scope=col>dist</th></tr>\n",
              "\t<tr><th></th><th scope=col>&lt;dbl&gt;</th><th scope=col>&lt;dbl&gt;</th></tr>\n",
              "</thead>\n",
              "<tbody>\n",
              "\t<tr><th scope=row>2</th><td> 4</td><td>10</td></tr>\n",
              "\t<tr><th scope=row>3</th><td> 7</td><td> 4</td></tr>\n",
              "\t<tr><th scope=row>4</th><td> 7</td><td>22</td></tr>\n",
              "\t<tr><th scope=row>5</th><td> 8</td><td>16</td></tr>\n",
              "\t<tr><th scope=row>6</th><td> 9</td><td>10</td></tr>\n",
              "\t<tr><th scope=row>7</th><td>10</td><td>18</td></tr>\n",
              "</tbody>\n",
              "</table>\n"
            ],
            "text/markdown": "\nA data.frame: 6 × 2\n\n| <!--/--> | speed &lt;dbl&gt; | dist &lt;dbl&gt; |\n|---|---|---|\n| 2 |  4 | 10 |\n| 3 |  7 |  4 |\n| 4 |  7 | 22 |\n| 5 |  8 | 16 |\n| 6 |  9 | 10 |\n| 7 | 10 | 18 |\n\n",
            "text/latex": "A data.frame: 6 × 2\n\\begin{tabular}{r|ll}\n  & speed & dist\\\\\n  & <dbl> & <dbl>\\\\\n\\hline\n\t2 &  4 & 10\\\\\n\t3 &  7 &  4\\\\\n\t4 &  7 & 22\\\\\n\t5 &  8 & 16\\\\\n\t6 &  9 & 10\\\\\n\t7 & 10 & 18\\\\\n\\end{tabular}\n",
            "text/plain": [
              "  speed dist\n",
              "2  4    10  \n",
              "3  7     4  \n",
              "4  7    22  \n",
              "5  8    16  \n",
              "6  9    10  \n",
              "7 10    18  "
            ]
          },
          "metadata": {}
        }
      ]
    },
    {
      "cell_type": "markdown",
      "source": [
        "Tomamos una muestra de tamaño 4 de la base de datos cars"
      ],
      "metadata": {
        "id": "jW5cN0r5Ratz"
      }
    },
    {
      "cell_type": "code",
      "source": [
        "x=1:50\n",
        "#x\n",
        "M=sample(x,4)\n",
        "M"
      ],
      "metadata": {
        "colab": {
          "base_uri": "https://localhost:8080/",
          "height": 34
        },
        "id": "lGNpO6vaR6WZ",
        "outputId": "99f680cd-8b21-46fe-9a3a-aab3f1605f57"
      },
      "execution_count": null,
      "outputs": [
        {
          "output_type": "display_data",
          "data": {
            "text/html": [
              "<style>\n",
              ".list-inline {list-style: none; margin:0; padding: 0}\n",
              ".list-inline>li {display: inline-block}\n",
              ".list-inline>li:not(:last-child)::after {content: \"\\00b7\"; padding: 0 .5ex}\n",
              "</style>\n",
              "<ol class=list-inline><li>19</li><li>5</li><li>42</li><li>2</li></ol>\n"
            ],
            "text/markdown": "1. 19\n2. 5\n3. 42\n4. 2\n\n\n",
            "text/latex": "\\begin{enumerate*}\n\\item 19\n\\item 5\n\\item 42\n\\item 2\n\\end{enumerate*}\n",
            "text/plain": [
              "[1] 19  5 42  2"
            ]
          },
          "metadata": {}
        }
      ]
    },
    {
      "cell_type": "code",
      "source": [
        "muestra=cars[M,1:2]\n",
        "muestra"
      ],
      "metadata": {
        "colab": {
          "base_uri": "https://localhost:8080/",
          "height": 223
        },
        "id": "0J6bW2gGR-P0",
        "outputId": "b27b13cf-a050-4d5a-b797-7374bcc10dc9"
      },
      "execution_count": null,
      "outputs": [
        {
          "output_type": "display_data",
          "data": {
            "text/html": [
              "<table class=\"dataframe\">\n",
              "<caption>A data.frame: 4 × 2</caption>\n",
              "<thead>\n",
              "\t<tr><th></th><th scope=col>speed</th><th scope=col>dist</th></tr>\n",
              "\t<tr><th></th><th scope=col>&lt;dbl&gt;</th><th scope=col>&lt;dbl&gt;</th></tr>\n",
              "</thead>\n",
              "<tbody>\n",
              "\t<tr><th scope=row>19</th><td>13</td><td>46</td></tr>\n",
              "\t<tr><th scope=row>5</th><td> 8</td><td>16</td></tr>\n",
              "\t<tr><th scope=row>42</th><td>20</td><td>56</td></tr>\n",
              "\t<tr><th scope=row>2</th><td> 4</td><td>10</td></tr>\n",
              "</tbody>\n",
              "</table>\n"
            ],
            "text/markdown": "\nA data.frame: 4 × 2\n\n| <!--/--> | speed &lt;dbl&gt; | dist &lt;dbl&gt; |\n|---|---|---|\n| 19 | 13 | 46 |\n| 5 |  8 | 16 |\n| 42 | 20 | 56 |\n| 2 |  4 | 10 |\n\n",
            "text/latex": "A data.frame: 4 × 2\n\\begin{tabular}{r|ll}\n  & speed & dist\\\\\n  & <dbl> & <dbl>\\\\\n\\hline\n\t19 & 13 & 46\\\\\n\t5 &  8 & 16\\\\\n\t42 & 20 & 56\\\\\n\t2 &  4 & 10\\\\\n\\end{tabular}\n",
            "text/plain": [
              "   speed dist\n",
              "19 13    46  \n",
              "5   8    16  \n",
              "42 20    56  \n",
              "2   4    10  "
            ]
          },
          "metadata": {}
        }
      ]
    },
    {
      "cell_type": "markdown",
      "source": [
        "Hallamos la media y la desviacion estandar de la muestra"
      ],
      "metadata": {
        "id": "5TT3wQGhSjqO"
      }
    },
    {
      "cell_type": "markdown",
      "source": [
        "para la variable $speed$"
      ],
      "metadata": {
        "id": "ueMxMtsIStLj"
      }
    },
    {
      "cell_type": "code",
      "source": [
        "muestra[,1]\n",
        "Mx=mean(muestra[,1])\n",
        "Mx"
      ],
      "metadata": {
        "colab": {
          "base_uri": "https://localhost:8080/",
          "height": 52
        },
        "id": "GOC8cL9iSjUm",
        "outputId": "2249b205-1c1e-4ea3-fd3e-dc09c3df30c3"
      },
      "execution_count": null,
      "outputs": [
        {
          "output_type": "display_data",
          "data": {
            "text/html": [
              "<style>\n",
              ".list-inline {list-style: none; margin:0; padding: 0}\n",
              ".list-inline>li {display: inline-block}\n",
              ".list-inline>li:not(:last-child)::after {content: \"\\00b7\"; padding: 0 .5ex}\n",
              "</style>\n",
              "<ol class=list-inline><li>13</li><li>8</li><li>20</li><li>4</li></ol>\n"
            ],
            "text/markdown": "1. 13\n2. 8\n3. 20\n4. 4\n\n\n",
            "text/latex": "\\begin{enumerate*}\n\\item 13\n\\item 8\n\\item 20\n\\item 4\n\\end{enumerate*}\n",
            "text/plain": [
              "[1] 13  8 20  4"
            ]
          },
          "metadata": {}
        },
        {
          "output_type": "display_data",
          "data": {
            "text/html": [
              "11.25"
            ],
            "text/markdown": "11.25",
            "text/latex": "11.25",
            "text/plain": [
              "[1] 11.25"
            ]
          },
          "metadata": {}
        }
      ]
    },
    {
      "cell_type": "code",
      "source": [
        "lista = c(13,8,20,4)\n",
        "mean(lista)"
      ],
      "metadata": {
        "colab": {
          "base_uri": "https://localhost:8080/",
          "height": 34
        },
        "id": "nxkXwgOnkopM",
        "outputId": "fccf1e2c-9b64-45c3-e067-80125d73a101"
      },
      "execution_count": null,
      "outputs": [
        {
          "output_type": "display_data",
          "data": {
            "text/html": [
              "11.25"
            ],
            "text/markdown": "11.25",
            "text/latex": "11.25",
            "text/plain": [
              "[1] 11.25"
            ]
          },
          "metadata": {}
        }
      ]
    },
    {
      "cell_type": "code",
      "source": [
        "Dx=sd(muestra[,1])\n",
        "Dx"
      ],
      "metadata": {
        "colab": {
          "base_uri": "https://localhost:8080/",
          "height": 34
        },
        "id": "5fiRS4R9TRtp",
        "outputId": "1c8702ca-fa71-4890-c054-3ee5d07f6f71"
      },
      "execution_count": null,
      "outputs": [
        {
          "output_type": "display_data",
          "data": {
            "text/html": [
              "6.89806736219163"
            ],
            "text/markdown": "6.89806736219163",
            "text/latex": "6.89806736219163",
            "text/plain": [
              "[1] 6.898067"
            ]
          },
          "metadata": {}
        }
      ]
    },
    {
      "cell_type": "markdown",
      "source": [
        "para la variable $dist$"
      ],
      "metadata": {
        "id": "KVmZREGaUDkd"
      }
    },
    {
      "cell_type": "code",
      "source": [
        "Mx=mean(muestra[,2])\n",
        "mean(c(46,16,56,10))\n",
        "Mx"
      ],
      "metadata": {
        "colab": {
          "base_uri": "https://localhost:8080/",
          "height": 52
        },
        "id": "90DVqDErUCLn",
        "outputId": "186d09d5-8d44-4786-8792-0155e95ef0cf"
      },
      "execution_count": null,
      "outputs": [
        {
          "output_type": "display_data",
          "data": {
            "text/html": [
              "32"
            ],
            "text/markdown": "32",
            "text/latex": "32",
            "text/plain": [
              "[1] 32"
            ]
          },
          "metadata": {}
        },
        {
          "output_type": "display_data",
          "data": {
            "text/html": [
              "32"
            ],
            "text/markdown": "32",
            "text/latex": "32",
            "text/plain": [
              "[1] 32"
            ]
          },
          "metadata": {}
        }
      ]
    },
    {
      "cell_type": "code",
      "source": [
        "Dx=sd(muestra[,2])\n",
        "Dx"
      ],
      "metadata": {
        "colab": {
          "base_uri": "https://localhost:8080/",
          "height": 34
        },
        "id": "52Xx0fLnUL3p",
        "outputId": "43d38436-9c79-4e1b-ec2a-7c2e03735a4d"
      },
      "execution_count": null,
      "outputs": [
        {
          "output_type": "display_data",
          "data": {
            "text/html": [
              "22.4499443206436"
            ],
            "text/markdown": "22.4499443206436",
            "text/latex": "22.4499443206436",
            "text/plain": [
              "[1] 22.44994"
            ]
          },
          "metadata": {}
        }
      ]
    },
    {
      "cell_type": "markdown",
      "source": [
        "La instrucción $set.seed$"
      ],
      "metadata": {
        "id": "SYiBBGh_dJut"
      }
    },
    {
      "cell_type": "code",
      "source": [
        "x=1:12\n",
        "x"
      ],
      "metadata": {
        "id": "ILnWYuQqnhEA",
        "colab": {
          "base_uri": "https://localhost:8080/",
          "height": 34
        },
        "outputId": "0be59108-8fc5-4f28-84e7-1c8695915713"
      },
      "execution_count": null,
      "outputs": [
        {
          "output_type": "display_data",
          "data": {
            "text/html": [
              "<style>\n",
              ".list-inline {list-style: none; margin:0; padding: 0}\n",
              ".list-inline>li {display: inline-block}\n",
              ".list-inline>li:not(:last-child)::after {content: \"\\00b7\"; padding: 0 .5ex}\n",
              "</style>\n",
              "<ol class=list-inline><li>1</li><li>2</li><li>3</li><li>4</li><li>5</li><li>6</li><li>7</li><li>8</li><li>9</li><li>10</li><li>11</li><li>12</li></ol>\n"
            ],
            "text/markdown": "1. 1\n2. 2\n3. 3\n4. 4\n5. 5\n6. 6\n7. 7\n8. 8\n9. 9\n10. 10\n11. 11\n12. 12\n\n\n",
            "text/latex": "\\begin{enumerate*}\n\\item 1\n\\item 2\n\\item 3\n\\item 4\n\\item 5\n\\item 6\n\\item 7\n\\item 8\n\\item 9\n\\item 10\n\\item 11\n\\item 12\n\\end{enumerate*}\n",
            "text/plain": [
              " [1]  1  2  3  4  5  6  7  8  9 10 11 12"
            ]
          },
          "metadata": {}
        }
      ]
    },
    {
      "cell_type": "code",
      "source": [
        "M=sample(x,4)\n",
        "M"
      ],
      "metadata": {
        "id": "hjxS0tSdnhGh",
        "colab": {
          "base_uri": "https://localhost:8080/",
          "height": 34
        },
        "outputId": "5673ed90-9c20-43ee-9bf3-e7ce41962b42"
      },
      "execution_count": null,
      "outputs": [
        {
          "output_type": "display_data",
          "data": {
            "text/html": [
              "<style>\n",
              ".list-inline {list-style: none; margin:0; padding: 0}\n",
              ".list-inline>li {display: inline-block}\n",
              ".list-inline>li:not(:last-child)::after {content: \"\\00b7\"; padding: 0 .5ex}\n",
              "</style>\n",
              "<ol class=list-inline><li>12</li><li>6</li><li>9</li><li>4</li></ol>\n"
            ],
            "text/markdown": "1. 12\n2. 6\n3. 9\n4. 4\n\n\n",
            "text/latex": "\\begin{enumerate*}\n\\item 12\n\\item 6\n\\item 9\n\\item 4\n\\end{enumerate*}\n",
            "text/plain": [
              "[1] 12  6  9  4"
            ]
          },
          "metadata": {}
        }
      ]
    },
    {
      "cell_type": "code",
      "source": [
        "set.seed(5513)\n",
        "M=sample(x,5)\n",
        "M"
      ],
      "metadata": {
        "colab": {
          "base_uri": "https://localhost:8080/",
          "height": 34
        },
        "id": "o5QroVbcdkkT",
        "outputId": "7d1490f7-a1f8-41d9-de86-2e68081e72da"
      },
      "execution_count": null,
      "outputs": [
        {
          "output_type": "display_data",
          "data": {
            "text/html": [
              "<style>\n",
              ".list-inline {list-style: none; margin:0; padding: 0}\n",
              ".list-inline>li {display: inline-block}\n",
              ".list-inline>li:not(:last-child)::after {content: \"\\00b7\"; padding: 0 .5ex}\n",
              "</style>\n",
              "<ol class=list-inline><li>3</li><li>7</li><li>2</li><li>5</li><li>9</li></ol>\n"
            ],
            "text/markdown": "1. 3\n2. 7\n3. 2\n4. 5\n5. 9\n\n\n",
            "text/latex": "\\begin{enumerate*}\n\\item 3\n\\item 7\n\\item 2\n\\item 5\n\\item 9\n\\end{enumerate*}\n",
            "text/plain": [
              "[1] 3 7 2 5 9"
            ]
          },
          "metadata": {}
        }
      ]
    },
    {
      "cell_type": "code",
      "source": [
        "set.seed(7158)\n",
        "M=sample(x,4)\n",
        "M"
      ],
      "metadata": {
        "colab": {
          "base_uri": "https://localhost:8080/",
          "height": 34
        },
        "id": "cEF5Aky6eVB6",
        "outputId": "b6f85608-c941-4851-aa83-fe212343f23c"
      },
      "execution_count": null,
      "outputs": [
        {
          "output_type": "display_data",
          "data": {
            "text/html": [
              "<style>\n",
              ".list-inline {list-style: none; margin:0; padding: 0}\n",
              ".list-inline>li {display: inline-block}\n",
              ".list-inline>li:not(:last-child)::after {content: \"\\00b7\"; padding: 0 .5ex}\n",
              "</style>\n",
              "<ol class=list-inline><li>8</li><li>11</li><li>2</li><li>10</li></ol>\n"
            ],
            "text/markdown": "1. 8\n2. 11\n3. 2\n4. 10\n\n\n",
            "text/latex": "\\begin{enumerate*}\n\\item 8\n\\item 11\n\\item 2\n\\item 10\n\\end{enumerate*}\n",
            "text/plain": [
              "[1]  8 11  2 10"
            ]
          },
          "metadata": {}
        }
      ]
    },
    {
      "cell_type": "code",
      "source": [
        "M = sample(1:50,7)\n",
        "#Mffwerwerwerwerwerwerwre\n",
        "muestra2=cars[M,1:2]\n",
        "#muestra2\n",
        "media2 = mean(muestra2[,1])\n",
        "media2\n",
        "\n",
        "desviacionEstrandar2 = sd(muestra2[,1])\n",
        "desviacionEstrandar2\n",
        "\n",
        "set.seed(3317)\n",
        "M = sample(1:50,7)\n",
        "muestra3=cars[M,1:2]\n",
        "#muestra3\n",
        "media3 = mean(muestra3[,1])\n",
        "desviacionEstrandar3 = sd(muestra3[,1])\n",
        "media3\n",
        "desviacionEstrandar3\n",
        "\n",
        "\n",
        "\n"
      ],
      "metadata": {
        "colab": {
          "base_uri": "https://localhost:8080/",
          "height": 86
        },
        "id": "WgUVSttynTHM",
        "outputId": "b068f2ee-9eaa-4915-dc47-df123860b04d"
      },
      "execution_count": null,
      "outputs": [
        {
          "output_type": "display_data",
          "data": {
            "text/html": [
              "14"
            ],
            "text/markdown": "14",
            "text/latex": "14",
            "text/plain": [
              "[1] 14"
            ]
          },
          "metadata": {}
        },
        {
          "output_type": "display_data",
          "data": {
            "text/html": [
              "6.53197264742181"
            ],
            "text/markdown": "6.53197264742181",
            "text/latex": "6.53197264742181",
            "text/plain": [
              "[1] 6.531973"
            ]
          },
          "metadata": {}
        },
        {
          "output_type": "display_data",
          "data": {
            "text/html": [
              "16.7142857142857"
            ],
            "text/markdown": "16.7142857142857",
            "text/latex": "16.7142857142857",
            "text/plain": [
              "[1] 16.71429"
            ]
          },
          "metadata": {}
        },
        {
          "output_type": "display_data",
          "data": {
            "text/html": [
              "3.14718316987777"
            ],
            "text/markdown": "3.14718316987777",
            "text/latex": "3.14718316987777",
            "text/plain": [
              "[1] 3.147183"
            ]
          },
          "metadata": {}
        }
      ]
    },
    {
      "cell_type": "markdown",
      "source": [
        "# **Muestreo aleatorio sistemático**"
      ],
      "metadata": {
        "id": "9ktZSRCtekYM"
      }
    },
    {
      "cell_type": "markdown",
      "source": [
        "**N:** Tamaño de la población\n",
        "\n",
        "**n:** Tamaño de la muestra\n",
        "\n",
        "**p:** Periodo\n",
        "\n",
        "\n",
        "$$p=\\frac{N}{n}$$\n",
        "\n",
        "**k:** punto de arranque aleatorio\n",
        "\n",
        "$k=numero \\ aleatorio \\ del \\ conjunto \\$ {1,2,3,...,p} \n"
      ],
      "metadata": {
        "id": "e7ySeZD0eoWk"
      }
    },
    {
      "cell_type": "code",
      "source": [
        "cars"
      ],
      "metadata": {
        "colab": {
          "base_uri": "https://localhost:8080/",
          "height": 1000
        },
        "id": "KgOwtZXZeq-i",
        "outputId": "7075cece-973a-4d89-b392-f34d7d49212c"
      },
      "execution_count": null,
      "outputs": [
        {
          "output_type": "display_data",
          "data": {
            "text/plain": [
              "   speed dist\n",
              "1   4      2 \n",
              "2   4     10 \n",
              "3   7      4 \n",
              "4   7     22 \n",
              "5   8     16 \n",
              "6   9     10 \n",
              "7  10     18 \n",
              "8  10     26 \n",
              "9  10     34 \n",
              "10 11     17 \n",
              "11 11     28 \n",
              "12 12     14 \n",
              "13 12     20 \n",
              "14 12     24 \n",
              "15 12     28 \n",
              "16 13     26 \n",
              "17 13     34 \n",
              "18 13     34 \n",
              "19 13     46 \n",
              "20 14     26 \n",
              "21 14     36 \n",
              "22 14     60 \n",
              "23 14     80 \n",
              "24 15     20 \n",
              "25 15     26 \n",
              "26 15     54 \n",
              "27 16     32 \n",
              "28 16     40 \n",
              "29 17     32 \n",
              "30 17     40 \n",
              "31 17     50 \n",
              "32 18     42 \n",
              "33 18     56 \n",
              "34 18     76 \n",
              "35 18     84 \n",
              "36 19     36 \n",
              "37 19     46 \n",
              "38 19     68 \n",
              "39 20     32 \n",
              "40 20     48 \n",
              "41 20     52 \n",
              "42 20     56 \n",
              "43 20     64 \n",
              "44 22     66 \n",
              "45 23     54 \n",
              "46 24     70 \n",
              "47 24     92 \n",
              "48 24     93 \n",
              "49 24    120 \n",
              "50 25     85 "
            ],
            "text/latex": "A data.frame: 50 × 2\n\\begin{tabular}{ll}\n speed & dist\\\\\n <dbl> & <dbl>\\\\\n\\hline\n\t  4 &   2\\\\\n\t  4 &  10\\\\\n\t  7 &   4\\\\\n\t  7 &  22\\\\\n\t  8 &  16\\\\\n\t  9 &  10\\\\\n\t 10 &  18\\\\\n\t 10 &  26\\\\\n\t 10 &  34\\\\\n\t 11 &  17\\\\\n\t 11 &  28\\\\\n\t 12 &  14\\\\\n\t 12 &  20\\\\\n\t 12 &  24\\\\\n\t 12 &  28\\\\\n\t 13 &  26\\\\\n\t 13 &  34\\\\\n\t 13 &  34\\\\\n\t 13 &  46\\\\\n\t 14 &  26\\\\\n\t 14 &  36\\\\\n\t 14 &  60\\\\\n\t 14 &  80\\\\\n\t 15 &  20\\\\\n\t 15 &  26\\\\\n\t 15 &  54\\\\\n\t 16 &  32\\\\\n\t 16 &  40\\\\\n\t 17 &  32\\\\\n\t 17 &  40\\\\\n\t 17 &  50\\\\\n\t 18 &  42\\\\\n\t 18 &  56\\\\\n\t 18 &  76\\\\\n\t 18 &  84\\\\\n\t 19 &  36\\\\\n\t 19 &  46\\\\\n\t 19 &  68\\\\\n\t 20 &  32\\\\\n\t 20 &  48\\\\\n\t 20 &  52\\\\\n\t 20 &  56\\\\\n\t 20 &  64\\\\\n\t 22 &  66\\\\\n\t 23 &  54\\\\\n\t 24 &  70\\\\\n\t 24 &  92\\\\\n\t 24 &  93\\\\\n\t 24 & 120\\\\\n\t 25 &  85\\\\\n\\end{tabular}\n",
            "text/markdown": "\nA data.frame: 50 × 2\n\n| speed &lt;dbl&gt; | dist &lt;dbl&gt; |\n|---|---|\n|  4 |   2 |\n|  4 |  10 |\n|  7 |   4 |\n|  7 |  22 |\n|  8 |  16 |\n|  9 |  10 |\n| 10 |  18 |\n| 10 |  26 |\n| 10 |  34 |\n| 11 |  17 |\n| 11 |  28 |\n| 12 |  14 |\n| 12 |  20 |\n| 12 |  24 |\n| 12 |  28 |\n| 13 |  26 |\n| 13 |  34 |\n| 13 |  34 |\n| 13 |  46 |\n| 14 |  26 |\n| 14 |  36 |\n| 14 |  60 |\n| 14 |  80 |\n| 15 |  20 |\n| 15 |  26 |\n| 15 |  54 |\n| 16 |  32 |\n| 16 |  40 |\n| 17 |  32 |\n| 17 |  40 |\n| 17 |  50 |\n| 18 |  42 |\n| 18 |  56 |\n| 18 |  76 |\n| 18 |  84 |\n| 19 |  36 |\n| 19 |  46 |\n| 19 |  68 |\n| 20 |  32 |\n| 20 |  48 |\n| 20 |  52 |\n| 20 |  56 |\n| 20 |  64 |\n| 22 |  66 |\n| 23 |  54 |\n| 24 |  70 |\n| 24 |  92 |\n| 24 |  93 |\n| 24 | 120 |\n| 25 |  85 |\n\n",
            "text/html": [
              "<table class=\"dataframe\">\n",
              "<caption>A data.frame: 50 × 2</caption>\n",
              "<thead>\n",
              "\t<tr><th scope=col>speed</th><th scope=col>dist</th></tr>\n",
              "\t<tr><th scope=col>&lt;dbl&gt;</th><th scope=col>&lt;dbl&gt;</th></tr>\n",
              "</thead>\n",
              "<tbody>\n",
              "\t<tr><td> 4</td><td>  2</td></tr>\n",
              "\t<tr><td> 4</td><td> 10</td></tr>\n",
              "\t<tr><td> 7</td><td>  4</td></tr>\n",
              "\t<tr><td> 7</td><td> 22</td></tr>\n",
              "\t<tr><td> 8</td><td> 16</td></tr>\n",
              "\t<tr><td> 9</td><td> 10</td></tr>\n",
              "\t<tr><td>10</td><td> 18</td></tr>\n",
              "\t<tr><td>10</td><td> 26</td></tr>\n",
              "\t<tr><td>10</td><td> 34</td></tr>\n",
              "\t<tr><td>11</td><td> 17</td></tr>\n",
              "\t<tr><td>11</td><td> 28</td></tr>\n",
              "\t<tr><td>12</td><td> 14</td></tr>\n",
              "\t<tr><td>12</td><td> 20</td></tr>\n",
              "\t<tr><td>12</td><td> 24</td></tr>\n",
              "\t<tr><td>12</td><td> 28</td></tr>\n",
              "\t<tr><td>13</td><td> 26</td></tr>\n",
              "\t<tr><td>13</td><td> 34</td></tr>\n",
              "\t<tr><td>13</td><td> 34</td></tr>\n",
              "\t<tr><td>13</td><td> 46</td></tr>\n",
              "\t<tr><td>14</td><td> 26</td></tr>\n",
              "\t<tr><td>14</td><td> 36</td></tr>\n",
              "\t<tr><td>14</td><td> 60</td></tr>\n",
              "\t<tr><td>14</td><td> 80</td></tr>\n",
              "\t<tr><td>15</td><td> 20</td></tr>\n",
              "\t<tr><td>15</td><td> 26</td></tr>\n",
              "\t<tr><td>15</td><td> 54</td></tr>\n",
              "\t<tr><td>16</td><td> 32</td></tr>\n",
              "\t<tr><td>16</td><td> 40</td></tr>\n",
              "\t<tr><td>17</td><td> 32</td></tr>\n",
              "\t<tr><td>17</td><td> 40</td></tr>\n",
              "\t<tr><td>17</td><td> 50</td></tr>\n",
              "\t<tr><td>18</td><td> 42</td></tr>\n",
              "\t<tr><td>18</td><td> 56</td></tr>\n",
              "\t<tr><td>18</td><td> 76</td></tr>\n",
              "\t<tr><td>18</td><td> 84</td></tr>\n",
              "\t<tr><td>19</td><td> 36</td></tr>\n",
              "\t<tr><td>19</td><td> 46</td></tr>\n",
              "\t<tr><td>19</td><td> 68</td></tr>\n",
              "\t<tr><td>20</td><td> 32</td></tr>\n",
              "\t<tr><td>20</td><td> 48</td></tr>\n",
              "\t<tr><td>20</td><td> 52</td></tr>\n",
              "\t<tr><td>20</td><td> 56</td></tr>\n",
              "\t<tr><td>20</td><td> 64</td></tr>\n",
              "\t<tr><td>22</td><td> 66</td></tr>\n",
              "\t<tr><td>23</td><td> 54</td></tr>\n",
              "\t<tr><td>24</td><td> 70</td></tr>\n",
              "\t<tr><td>24</td><td> 92</td></tr>\n",
              "\t<tr><td>24</td><td> 93</td></tr>\n",
              "\t<tr><td>24</td><td>120</td></tr>\n",
              "\t<tr><td>25</td><td> 85</td></tr>\n",
              "</tbody>\n",
              "</table>\n"
            ]
          },
          "metadata": {}
        }
      ]
    },
    {
      "cell_type": "code",
      "source": [
        "dim(cars)"
      ],
      "metadata": {
        "colab": {
          "base_uri": "https://localhost:8080/",
          "height": 34
        },
        "id": "wyTnA9Jbeu_p",
        "outputId": "c9b8dd13-bd28-4cf9-a3bd-e79885e271d4"
      },
      "execution_count": null,
      "outputs": [
        {
          "output_type": "display_data",
          "data": {
            "text/plain": [
              "[1] 50  2"
            ],
            "text/latex": "\\begin{enumerate*}\n\\item 50\n\\item 2\n\\end{enumerate*}\n",
            "text/markdown": "1. 50\n2. 2\n\n\n",
            "text/html": [
              "<style>\n",
              ".list-inline {list-style: none; margin:0; padding: 0}\n",
              ".list-inline>li {display: inline-block}\n",
              ".list-inline>li:not(:last-child)::after {content: \"\\00b7\"; padding: 0 .5ex}\n",
              "</style>\n",
              "<ol class=list-inline><li>50</li><li>2</li></ol>\n"
            ]
          },
          "metadata": {}
        }
      ]
    },
    {
      "cell_type": "code",
      "source": [
        "N=50\n",
        "n=8\n",
        "p=N/n\n",
        "p"
      ],
      "metadata": {
        "colab": {
          "base_uri": "https://localhost:8080/",
          "height": 34
        },
        "id": "4_2IVEYafEuP",
        "outputId": "ff7ab0c3-959e-4549-c8fc-ae54d0e516b2"
      },
      "execution_count": null,
      "outputs": [
        {
          "output_type": "display_data",
          "data": {
            "text/plain": [
              "[1] 6.25"
            ],
            "text/latex": "6.25",
            "text/markdown": "6.25",
            "text/html": [
              "6.25"
            ]
          },
          "metadata": {}
        }
      ]
    },
    {
      "cell_type": "code",
      "source": [
        "p1=round(p)\n",
        "p1"
      ],
      "metadata": {
        "colab": {
          "base_uri": "https://localhost:8080/",
          "height": 34
        },
        "id": "ZbQSSXnmfO54",
        "outputId": "a3934229-2f67-4112-dd5c-bb7c64d30236"
      },
      "execution_count": null,
      "outputs": [
        {
          "output_type": "display_data",
          "data": {
            "text/plain": [
              "[1] 6"
            ],
            "text/latex": "6",
            "text/markdown": "6",
            "text/html": [
              "6"
            ]
          },
          "metadata": {}
        }
      ]
    },
    {
      "cell_type": "code",
      "source": [
        "y=1:p1\n",
        "set.seed(4273)\n",
        "k=sample(y,1)\n",
        "k"
      ],
      "metadata": {
        "colab": {
          "base_uri": "https://localhost:8080/",
          "height": 34
        },
        "id": "BQ_m_10wfT6S",
        "outputId": "03d5d37e-1c92-4a69-d26c-7299914058cc"
      },
      "execution_count": null,
      "outputs": [
        {
          "output_type": "display_data",
          "data": {
            "text/plain": [
              "[1] 3"
            ],
            "text/latex": "3",
            "text/markdown": "3",
            "text/html": [
              "3"
            ]
          },
          "metadata": {}
        }
      ]
    },
    {
      "cell_type": "code",
      "source": [
        "Muestra2=seq(k,N,p1)\n",
        "Muestra2"
      ],
      "metadata": {
        "colab": {
          "base_uri": "https://localhost:8080/",
          "height": 34
        },
        "id": "GTN3r7azfhYi",
        "outputId": "2abc7f58-fe05-402e-fcab-7242766e7c66"
      },
      "execution_count": null,
      "outputs": [
        {
          "output_type": "display_data",
          "data": {
            "text/plain": [
              "[1]  3  9 15 21 27 33 39 45"
            ],
            "text/latex": "\\begin{enumerate*}\n\\item 3\n\\item 9\n\\item 15\n\\item 21\n\\item 27\n\\item 33\n\\item 39\n\\item 45\n\\end{enumerate*}\n",
            "text/markdown": "1. 3\n2. 9\n3. 15\n4. 21\n5. 27\n6. 33\n7. 39\n8. 45\n\n\n",
            "text/html": [
              "<style>\n",
              ".list-inline {list-style: none; margin:0; padding: 0}\n",
              ".list-inline>li {display: inline-block}\n",
              ".list-inline>li:not(:last-child)::after {content: \"\\00b7\"; padding: 0 .5ex}\n",
              "</style>\n",
              "<ol class=list-inline><li>3</li><li>9</li><li>15</li><li>21</li><li>27</li><li>33</li><li>39</li><li>45</li></ol>\n"
            ]
          },
          "metadata": {}
        }
      ]
    },
    {
      "cell_type": "code",
      "source": [
        "cars[Muestra2,]"
      ],
      "metadata": {
        "colab": {
          "base_uri": "https://localhost:8080/",
          "height": 349
        },
        "id": "iBmKjZFVgxqD",
        "outputId": "a325beef-540c-4103-ff19-a20cdc2a449f"
      },
      "execution_count": null,
      "outputs": [
        {
          "output_type": "display_data",
          "data": {
            "text/plain": [
              "   speed dist\n",
              "3   7     4  \n",
              "9  10    34  \n",
              "15 12    28  \n",
              "21 14    36  \n",
              "27 16    32  \n",
              "33 18    56  \n",
              "39 20    32  \n",
              "45 23    54  "
            ],
            "text/latex": "A data.frame: 8 × 2\n\\begin{tabular}{r|ll}\n  & speed & dist\\\\\n  & <dbl> & <dbl>\\\\\n\\hline\n\t3 &  7 &  4\\\\\n\t9 & 10 & 34\\\\\n\t15 & 12 & 28\\\\\n\t21 & 14 & 36\\\\\n\t27 & 16 & 32\\\\\n\t33 & 18 & 56\\\\\n\t39 & 20 & 32\\\\\n\t45 & 23 & 54\\\\\n\\end{tabular}\n",
            "text/markdown": "\nA data.frame: 8 × 2\n\n| <!--/--> | speed &lt;dbl&gt; | dist &lt;dbl&gt; |\n|---|---|---|\n| 3 |  7 |  4 |\n| 9 | 10 | 34 |\n| 15 | 12 | 28 |\n| 21 | 14 | 36 |\n| 27 | 16 | 32 |\n| 33 | 18 | 56 |\n| 39 | 20 | 32 |\n| 45 | 23 | 54 |\n\n",
            "text/html": [
              "<table class=\"dataframe\">\n",
              "<caption>A data.frame: 8 × 2</caption>\n",
              "<thead>\n",
              "\t<tr><th></th><th scope=col>speed</th><th scope=col>dist</th></tr>\n",
              "\t<tr><th></th><th scope=col>&lt;dbl&gt;</th><th scope=col>&lt;dbl&gt;</th></tr>\n",
              "</thead>\n",
              "<tbody>\n",
              "\t<tr><th scope=row>3</th><td> 7</td><td> 4</td></tr>\n",
              "\t<tr><th scope=row>9</th><td>10</td><td>34</td></tr>\n",
              "\t<tr><th scope=row>15</th><td>12</td><td>28</td></tr>\n",
              "\t<tr><th scope=row>21</th><td>14</td><td>36</td></tr>\n",
              "\t<tr><th scope=row>27</th><td>16</td><td>32</td></tr>\n",
              "\t<tr><th scope=row>33</th><td>18</td><td>56</td></tr>\n",
              "\t<tr><th scope=row>39</th><td>20</td><td>32</td></tr>\n",
              "\t<tr><th scope=row>45</th><td>23</td><td>54</td></tr>\n",
              "</tbody>\n",
              "</table>\n"
            ]
          },
          "metadata": {}
        }
      ]
    },
    {
      "cell_type": "markdown",
      "source": [
        "Hallamos la media y la desviacion estandar de la muestra\n",
        "\n",
        "para la variable speed"
      ],
      "metadata": {
        "id": "QQZdYW0BhKmg"
      }
    },
    {
      "cell_type": "code",
      "source": [
        "MS=cars[Muestra2,]\n",
        "MS"
      ],
      "metadata": {
        "colab": {
          "base_uri": "https://localhost:8080/",
          "height": 349
        },
        "id": "UVI9IhfUhZ5T",
        "outputId": "d2d0b71b-fed6-43a0-efb2-cda1e5269621"
      },
      "execution_count": null,
      "outputs": [
        {
          "output_type": "display_data",
          "data": {
            "text/plain": [
              "   speed dist\n",
              "3   7     4  \n",
              "9  10    34  \n",
              "15 12    28  \n",
              "21 14    36  \n",
              "27 16    32  \n",
              "33 18    56  \n",
              "39 20    32  \n",
              "45 23    54  "
            ],
            "text/latex": "A data.frame: 8 × 2\n\\begin{tabular}{r|ll}\n  & speed & dist\\\\\n  & <dbl> & <dbl>\\\\\n\\hline\n\t3 &  7 &  4\\\\\n\t9 & 10 & 34\\\\\n\t15 & 12 & 28\\\\\n\t21 & 14 & 36\\\\\n\t27 & 16 & 32\\\\\n\t33 & 18 & 56\\\\\n\t39 & 20 & 32\\\\\n\t45 & 23 & 54\\\\\n\\end{tabular}\n",
            "text/markdown": "\nA data.frame: 8 × 2\n\n| <!--/--> | speed &lt;dbl&gt; | dist &lt;dbl&gt; |\n|---|---|---|\n| 3 |  7 |  4 |\n| 9 | 10 | 34 |\n| 15 | 12 | 28 |\n| 21 | 14 | 36 |\n| 27 | 16 | 32 |\n| 33 | 18 | 56 |\n| 39 | 20 | 32 |\n| 45 | 23 | 54 |\n\n",
            "text/html": [
              "<table class=\"dataframe\">\n",
              "<caption>A data.frame: 8 × 2</caption>\n",
              "<thead>\n",
              "\t<tr><th></th><th scope=col>speed</th><th scope=col>dist</th></tr>\n",
              "\t<tr><th></th><th scope=col>&lt;dbl&gt;</th><th scope=col>&lt;dbl&gt;</th></tr>\n",
              "</thead>\n",
              "<tbody>\n",
              "\t<tr><th scope=row>3</th><td> 7</td><td> 4</td></tr>\n",
              "\t<tr><th scope=row>9</th><td>10</td><td>34</td></tr>\n",
              "\t<tr><th scope=row>15</th><td>12</td><td>28</td></tr>\n",
              "\t<tr><th scope=row>21</th><td>14</td><td>36</td></tr>\n",
              "\t<tr><th scope=row>27</th><td>16</td><td>32</td></tr>\n",
              "\t<tr><th scope=row>33</th><td>18</td><td>56</td></tr>\n",
              "\t<tr><th scope=row>39</th><td>20</td><td>32</td></tr>\n",
              "\t<tr><th scope=row>45</th><td>23</td><td>54</td></tr>\n",
              "</tbody>\n",
              "</table>\n"
            ]
          },
          "metadata": {}
        }
      ]
    },
    {
      "cell_type": "code",
      "source": [
        "Media=mean(MS[,1])\n",
        "DesvStandar=sd(MS[,1])\n",
        "Media\n",
        "DesvStandar"
      ],
      "metadata": {
        "colab": {
          "base_uri": "https://localhost:8080/",
          "height": 52
        },
        "id": "xYxbkHpHjLlj",
        "outputId": "1dafaf2c-fe59-4a4f-9bad-36ad84e15da1"
      },
      "execution_count": null,
      "outputs": [
        {
          "output_type": "display_data",
          "data": {
            "text/plain": [
              "[1] 15"
            ],
            "text/latex": "15",
            "text/markdown": "15",
            "text/html": [
              "15"
            ]
          },
          "metadata": {}
        },
        {
          "output_type": "display_data",
          "data": {
            "text/plain": [
              "[1] 5.318432"
            ],
            "text/latex": "5.31843156256751",
            "text/markdown": "5.31843156256751",
            "text/html": [
              "5.31843156256751"
            ]
          },
          "metadata": {}
        }
      ]
    },
    {
      "cell_type": "markdown",
      "source": [
        "para la variable dist"
      ],
      "metadata": {
        "id": "PMPJcBgXhZRL"
      }
    },
    {
      "cell_type": "code",
      "source": [
        "Media=mean(MS[,2])\n",
        "DesvStandar=sd(MS[,2])\n",
        "Media\n",
        "DesvStandar"
      ],
      "metadata": {
        "colab": {
          "base_uri": "https://localhost:8080/",
          "height": 52
        },
        "id": "LagTII4Hhdpg",
        "outputId": "8fe60dc4-fe47-4adf-b47f-3534b9272ed3"
      },
      "execution_count": null,
      "outputs": [
        {
          "output_type": "display_data",
          "data": {
            "text/plain": [
              "[1] 34.5"
            ],
            "text/latex": "34.5",
            "text/markdown": "34.5",
            "text/html": [
              "34.5"
            ]
          },
          "metadata": {}
        },
        {
          "output_type": "display_data",
          "data": {
            "text/plain": [
              "[1] 16.16875"
            ],
            "text/latex": "16.1687529336239",
            "text/markdown": "16.1687529336239",
            "text/html": [
              "16.1687529336239"
            ]
          },
          "metadata": {}
        }
      ]
    },
    {
      "cell_type": "markdown",
      "source": [
        "# **Muestreo aleatorio estratificado**"
      ],
      "metadata": {
        "id": "st3Tax3Oj7iT"
      }
    },
    {
      "cell_type": "markdown",
      "source": [
        "$$n_i=n \\left( \\frac{N_i}{N} \\right)$$"
      ],
      "metadata": {
        "id": "m0zXFX20oH69"
      }
    },
    {
      "cell_type": "markdown",
      "source": [
        "$n$ = Tamaño de la muestra\n",
        "\n",
        "$N$=Tamaño de la poblacion\n",
        "\n",
        "$N_i$=Tamaño de cada estratato\n",
        "\n",
        "$n_i$=Tamaño en la muestra de cada estrato\n",
        "\n"
      ],
      "metadata": {
        "id": "E_wu7k-MoaNv"
      }
    },
    {
      "cell_type": "markdown",
      "source": [
        "**Ejemplo:**\n",
        "\n",
        "Formaremos una poblacion de 400 objetos (homogeneos) en la cual esten definidos tres grupo(estratos) conformados somo sigue\n",
        "\n",
        "Estrato 1 : 100 objetos\n",
        "\n",
        "Estrato 2 : 200 objetos\n",
        "\n",
        "Estrato 3 : 100 objetos"
      ],
      "metadata": {
        "id": "EG-kJPqHozbi"
      }
    },
    {
      "cell_type": "code",
      "source": [
        "VarEstratoDepartamento=c(rep(1,100),rep(2,200),rep(3,100))\n",
        "VarEstratoDepartamento"
      ],
      "metadata": {
        "colab": {
          "base_uri": "https://localhost:8080/",
          "height": 104
        },
        "id": "dHtSqSXTpRxQ",
        "outputId": "da354f13-82dd-49b1-cd3c-834d988ef266"
      },
      "execution_count": null,
      "outputs": [
        {
          "output_type": "display_data",
          "data": {
            "text/plain": [
              "  [1] 1 1 1 1 1 1 1 1 1 1 1 1 1 1 1 1 1 1 1 1 1 1 1 1 1 1 1 1 1 1 1 1 1 1 1 1 1\n",
              " [38] 1 1 1 1 1 1 1 1 1 1 1 1 1 1 1 1 1 1 1 1 1 1 1 1 1 1 1 1 1 1 1 1 1 1 1 1 1\n",
              " [75] 1 1 1 1 1 1 1 1 1 1 1 1 1 1 1 1 1 1 1 1 1 1 1 1 1 1 2 2 2 2 2 2 2 2 2 2 2\n",
              "[112] 2 2 2 2 2 2 2 2 2 2 2 2 2 2 2 2 2 2 2 2 2 2 2 2 2 2 2 2 2 2 2 2 2 2 2 2 2\n",
              "[149] 2 2 2 2 2 2 2 2 2 2 2 2 2 2 2 2 2 2 2 2 2 2 2 2 2 2 2 2 2 2 2 2 2 2 2 2 2\n",
              "[186] 2 2 2 2 2 2 2 2 2 2 2 2 2 2 2 2 2 2 2 2 2 2 2 2 2 2 2 2 2 2 2 2 2 2 2 2 2\n",
              "[223] 2 2 2 2 2 2 2 2 2 2 2 2 2 2 2 2 2 2 2 2 2 2 2 2 2 2 2 2 2 2 2 2 2 2 2 2 2\n",
              "[260] 2 2 2 2 2 2 2 2 2 2 2 2 2 2 2 2 2 2 2 2 2 2 2 2 2 2 2 2 2 2 2 2 2 2 2 2 2\n",
              "[297] 2 2 2 2 3 3 3 3 3 3 3 3 3 3 3 3 3 3 3 3 3 3 3 3 3 3 3 3 3 3 3 3 3 3 3 3 3\n",
              "[334] 3 3 3 3 3 3 3 3 3 3 3 3 3 3 3 3 3 3 3 3 3 3 3 3 3 3 3 3 3 3 3 3 3 3 3 3 3\n",
              "[371] 3 3 3 3 3 3 3 3 3 3 3 3 3 3 3 3 3 3 3 3 3 3 3 3 3 3 3 3 3 3"
            ],
            "text/latex": "\\begin{enumerate*}\n\\item 1\n\\item 1\n\\item 1\n\\item 1\n\\item 1\n\\item 1\n\\item 1\n\\item 1\n\\item 1\n\\item 1\n\\item 1\n\\item 1\n\\item 1\n\\item 1\n\\item 1\n\\item 1\n\\item 1\n\\item 1\n\\item 1\n\\item 1\n\\item 1\n\\item 1\n\\item 1\n\\item 1\n\\item 1\n\\item 1\n\\item 1\n\\item 1\n\\item 1\n\\item 1\n\\item 1\n\\item 1\n\\item 1\n\\item 1\n\\item 1\n\\item 1\n\\item 1\n\\item 1\n\\item 1\n\\item 1\n\\item 1\n\\item 1\n\\item 1\n\\item 1\n\\item 1\n\\item 1\n\\item 1\n\\item 1\n\\item 1\n\\item 1\n\\item 1\n\\item 1\n\\item 1\n\\item 1\n\\item 1\n\\item 1\n\\item 1\n\\item 1\n\\item 1\n\\item 1\n\\item 1\n\\item 1\n\\item 1\n\\item 1\n\\item 1\n\\item 1\n\\item 1\n\\item 1\n\\item 1\n\\item 1\n\\item 1\n\\item 1\n\\item 1\n\\item 1\n\\item 1\n\\item 1\n\\item 1\n\\item 1\n\\item 1\n\\item 1\n\\item 1\n\\item 1\n\\item 1\n\\item 1\n\\item 1\n\\item 1\n\\item 1\n\\item 1\n\\item 1\n\\item 1\n\\item 1\n\\item 1\n\\item 1\n\\item 1\n\\item 1\n\\item 1\n\\item 1\n\\item 1\n\\item 1\n\\item 1\n\\item 2\n\\item 2\n\\item 2\n\\item 2\n\\item 2\n\\item 2\n\\item 2\n\\item 2\n\\item 2\n\\item 2\n\\item 2\n\\item 2\n\\item 2\n\\item 2\n\\item 2\n\\item 2\n\\item 2\n\\item 2\n\\item 2\n\\item 2\n\\item 2\n\\item 2\n\\item 2\n\\item 2\n\\item 2\n\\item 2\n\\item 2\n\\item 2\n\\item 2\n\\item 2\n\\item 2\n\\item 2\n\\item 2\n\\item 2\n\\item 2\n\\item 2\n\\item 2\n\\item 2\n\\item 2\n\\item 2\n\\item 2\n\\item 2\n\\item 2\n\\item 2\n\\item 2\n\\item 2\n\\item 2\n\\item 2\n\\item 2\n\\item 2\n\\item 2\n\\item 2\n\\item 2\n\\item 2\n\\item 2\n\\item 2\n\\item 2\n\\item 2\n\\item 2\n\\item 2\n\\item 2\n\\item 2\n\\item 2\n\\item 2\n\\item 2\n\\item 2\n\\item 2\n\\item 2\n\\item 2\n\\item 2\n\\item 2\n\\item 2\n\\item 2\n\\item 2\n\\item 2\n\\item 2\n\\item 2\n\\item 2\n\\item 2\n\\item 2\n\\item 2\n\\item 2\n\\item 2\n\\item 2\n\\item 2\n\\item 2\n\\item 2\n\\item 2\n\\item 2\n\\item 2\n\\item 2\n\\item 2\n\\item 2\n\\item 2\n\\item 2\n\\item 2\n\\item 2\n\\item 2\n\\item 2\n\\item 2\n\\item 2\n\\item 2\n\\item 2\n\\item 2\n\\item 2\n\\item 2\n\\item 2\n\\item 2\n\\item 2\n\\item 2\n\\item 2\n\\item 2\n\\item 2\n\\item 2\n\\item 2\n\\item 2\n\\item 2\n\\item 2\n\\item 2\n\\item 2\n\\item 2\n\\item 2\n\\item 2\n\\item 2\n\\item 2\n\\item 2\n\\item 2\n\\item 2\n\\item 2\n\\item 2\n\\item 2\n\\item 2\n\\item 2\n\\item 2\n\\item 2\n\\item 2\n\\item 2\n\\item 2\n\\item 2\n\\item 2\n\\item 2\n\\item 2\n\\item 2\n\\item 2\n\\item 2\n\\item 2\n\\item 2\n\\item 2\n\\item 2\n\\item 2\n\\item 2\n\\item 2\n\\item 2\n\\item 2\n\\item 2\n\\item 2\n\\item 2\n\\item 2\n\\item 2\n\\item 2\n\\item 2\n\\item 2\n\\item 2\n\\item 2\n\\item 2\n\\item 2\n\\item 2\n\\item 2\n\\item 2\n\\item 2\n\\item 2\n\\item 2\n\\item 2\n\\item 2\n\\item 2\n\\item 2\n\\item 2\n\\item 2\n\\item 2\n\\item 2\n\\item 2\n\\item 2\n\\item 2\n\\item 2\n\\item 2\n\\item 2\n\\item 2\n\\item 2\n\\item 2\n\\item 2\n\\item 2\n\\item 2\n\\item 2\n\\item 2\n\\item 2\n\\item 2\n\\item 2\n\\item 2\n\\item 2\n\\item 2\n\\item 3\n\\item 3\n\\item 3\n\\item 3\n\\item 3\n\\item 3\n\\item 3\n\\item 3\n\\item 3\n\\item 3\n\\item 3\n\\item 3\n\\item 3\n\\item 3\n\\item 3\n\\item 3\n\\item 3\n\\item 3\n\\item 3\n\\item 3\n\\item 3\n\\item 3\n\\item 3\n\\item 3\n\\item 3\n\\item 3\n\\item 3\n\\item 3\n\\item 3\n\\item 3\n\\item 3\n\\item 3\n\\item 3\n\\item 3\n\\item 3\n\\item 3\n\\item 3\n\\item 3\n\\item 3\n\\item 3\n\\item 3\n\\item 3\n\\item 3\n\\item 3\n\\item 3\n\\item 3\n\\item 3\n\\item 3\n\\item 3\n\\item 3\n\\item 3\n\\item 3\n\\item 3\n\\item 3\n\\item 3\n\\item 3\n\\item 3\n\\item 3\n\\item 3\n\\item 3\n\\item 3\n\\item 3\n\\item 3\n\\item 3\n\\item 3\n\\item 3\n\\item 3\n\\item 3\n\\item 3\n\\item 3\n\\item 3\n\\item 3\n\\item 3\n\\item 3\n\\item 3\n\\item 3\n\\item 3\n\\item 3\n\\item 3\n\\item 3\n\\item 3\n\\item 3\n\\item 3\n\\item 3\n\\item 3\n\\item 3\n\\item 3\n\\item 3\n\\item 3\n\\item 3\n\\item 3\n\\item 3\n\\item 3\n\\item 3\n\\item 3\n\\item 3\n\\item 3\n\\item 3\n\\item 3\n\\item 3\n\\end{enumerate*}\n",
            "text/markdown": "1. 1\n2. 1\n3. 1\n4. 1\n5. 1\n6. 1\n7. 1\n8. 1\n9. 1\n10. 1\n11. 1\n12. 1\n13. 1\n14. 1\n15. 1\n16. 1\n17. 1\n18. 1\n19. 1\n20. 1\n21. 1\n22. 1\n23. 1\n24. 1\n25. 1\n26. 1\n27. 1\n28. 1\n29. 1\n30. 1\n31. 1\n32. 1\n33. 1\n34. 1\n35. 1\n36. 1\n37. 1\n38. 1\n39. 1\n40. 1\n41. 1\n42. 1\n43. 1\n44. 1\n45. 1\n46. 1\n47. 1\n48. 1\n49. 1\n50. 1\n51. 1\n52. 1\n53. 1\n54. 1\n55. 1\n56. 1\n57. 1\n58. 1\n59. 1\n60. 1\n61. 1\n62. 1\n63. 1\n64. 1\n65. 1\n66. 1\n67. 1\n68. 1\n69. 1\n70. 1\n71. 1\n72. 1\n73. 1\n74. 1\n75. 1\n76. 1\n77. 1\n78. 1\n79. 1\n80. 1\n81. 1\n82. 1\n83. 1\n84. 1\n85. 1\n86. 1\n87. 1\n88. 1\n89. 1\n90. 1\n91. 1\n92. 1\n93. 1\n94. 1\n95. 1\n96. 1\n97. 1\n98. 1\n99. 1\n100. 1\n101. 2\n102. 2\n103. 2\n104. 2\n105. 2\n106. 2\n107. 2\n108. 2\n109. 2\n110. 2\n111. 2\n112. 2\n113. 2\n114. 2\n115. 2\n116. 2\n117. 2\n118. 2\n119. 2\n120. 2\n121. 2\n122. 2\n123. 2\n124. 2\n125. 2\n126. 2\n127. 2\n128. 2\n129. 2\n130. 2\n131. 2\n132. 2\n133. 2\n134. 2\n135. 2\n136. 2\n137. 2\n138. 2\n139. 2\n140. 2\n141. 2\n142. 2\n143. 2\n144. 2\n145. 2\n146. 2\n147. 2\n148. 2\n149. 2\n150. 2\n151. 2\n152. 2\n153. 2\n154. 2\n155. 2\n156. 2\n157. 2\n158. 2\n159. 2\n160. 2\n161. 2\n162. 2\n163. 2\n164. 2\n165. 2\n166. 2\n167. 2\n168. 2\n169. 2\n170. 2\n171. 2\n172. 2\n173. 2\n174. 2\n175. 2\n176. 2\n177. 2\n178. 2\n179. 2\n180. 2\n181. 2\n182. 2\n183. 2\n184. 2\n185. 2\n186. 2\n187. 2\n188. 2\n189. 2\n190. 2\n191. 2\n192. 2\n193. 2\n194. 2\n195. 2\n196. 2\n197. 2\n198. 2\n199. 2\n200. 2\n201. 2\n202. 2\n203. 2\n204. 2\n205. 2\n206. 2\n207. 2\n208. 2\n209. 2\n210. 2\n211. 2\n212. 2\n213. 2\n214. 2\n215. 2\n216. 2\n217. 2\n218. 2\n219. 2\n220. 2\n221. 2\n222. 2\n223. 2\n224. 2\n225. 2\n226. 2\n227. 2\n228. 2\n229. 2\n230. 2\n231. 2\n232. 2\n233. 2\n234. 2\n235. 2\n236. 2\n237. 2\n238. 2\n239. 2\n240. 2\n241. 2\n242. 2\n243. 2\n244. 2\n245. 2\n246. 2\n247. 2\n248. 2\n249. 2\n250. 2\n251. 2\n252. 2\n253. 2\n254. 2\n255. 2\n256. 2\n257. 2\n258. 2\n259. 2\n260. 2\n261. 2\n262. 2\n263. 2\n264. 2\n265. 2\n266. 2\n267. 2\n268. 2\n269. 2\n270. 2\n271. 2\n272. 2\n273. 2\n274. 2\n275. 2\n276. 2\n277. 2\n278. 2\n279. 2\n280. 2\n281. 2\n282. 2\n283. 2\n284. 2\n285. 2\n286. 2\n287. 2\n288. 2\n289. 2\n290. 2\n291. 2\n292. 2\n293. 2\n294. 2\n295. 2\n296. 2\n297. 2\n298. 2\n299. 2\n300. 2\n301. 3\n302. 3\n303. 3\n304. 3\n305. 3\n306. 3\n307. 3\n308. 3\n309. 3\n310. 3\n311. 3\n312. 3\n313. 3\n314. 3\n315. 3\n316. 3\n317. 3\n318. 3\n319. 3\n320. 3\n321. 3\n322. 3\n323. 3\n324. 3\n325. 3\n326. 3\n327. 3\n328. 3\n329. 3\n330. 3\n331. 3\n332. 3\n333. 3\n334. 3\n335. 3\n336. 3\n337. 3\n338. 3\n339. 3\n340. 3\n341. 3\n342. 3\n343. 3\n344. 3\n345. 3\n346. 3\n347. 3\n348. 3\n349. 3\n350. 3\n351. 3\n352. 3\n353. 3\n354. 3\n355. 3\n356. 3\n357. 3\n358. 3\n359. 3\n360. 3\n361. 3\n362. 3\n363. 3\n364. 3\n365. 3\n366. 3\n367. 3\n368. 3\n369. 3\n370. 3\n371. 3\n372. 3\n373. 3\n374. 3\n375. 3\n376. 3\n377. 3\n378. 3\n379. 3\n380. 3\n381. 3\n382. 3\n383. 3\n384. 3\n385. 3\n386. 3\n387. 3\n388. 3\n389. 3\n390. 3\n391. 3\n392. 3\n393. 3\n394. 3\n395. 3\n396. 3\n397. 3\n398. 3\n399. 3\n400. 3\n\n\n",
            "text/html": [
              "<style>\n",
              ".list-inline {list-style: none; margin:0; padding: 0}\n",
              ".list-inline>li {display: inline-block}\n",
              ".list-inline>li:not(:last-child)::after {content: \"\\00b7\"; padding: 0 .5ex}\n",
              "</style>\n",
              "<ol class=list-inline><li>1</li><li>1</li><li>1</li><li>1</li><li>1</li><li>1</li><li>1</li><li>1</li><li>1</li><li>1</li><li>1</li><li>1</li><li>1</li><li>1</li><li>1</li><li>1</li><li>1</li><li>1</li><li>1</li><li>1</li><li>1</li><li>1</li><li>1</li><li>1</li><li>1</li><li>1</li><li>1</li><li>1</li><li>1</li><li>1</li><li>1</li><li>1</li><li>1</li><li>1</li><li>1</li><li>1</li><li>1</li><li>1</li><li>1</li><li>1</li><li>1</li><li>1</li><li>1</li><li>1</li><li>1</li><li>1</li><li>1</li><li>1</li><li>1</li><li>1</li><li>1</li><li>1</li><li>1</li><li>1</li><li>1</li><li>1</li><li>1</li><li>1</li><li>1</li><li>1</li><li>1</li><li>1</li><li>1</li><li>1</li><li>1</li><li>1</li><li>1</li><li>1</li><li>1</li><li>1</li><li>1</li><li>1</li><li>1</li><li>1</li><li>1</li><li>1</li><li>1</li><li>1</li><li>1</li><li>1</li><li>1</li><li>1</li><li>1</li><li>1</li><li>1</li><li>1</li><li>1</li><li>1</li><li>1</li><li>1</li><li>1</li><li>1</li><li>1</li><li>1</li><li>1</li><li>1</li><li>1</li><li>1</li><li>1</li><li>1</li><li>2</li><li>2</li><li>2</li><li>2</li><li>2</li><li>2</li><li>2</li><li>2</li><li>2</li><li>2</li><li>2</li><li>2</li><li>2</li><li>2</li><li>2</li><li>2</li><li>2</li><li>2</li><li>2</li><li>2</li><li>2</li><li>2</li><li>2</li><li>2</li><li>2</li><li>2</li><li>2</li><li>2</li><li>2</li><li>2</li><li>2</li><li>2</li><li>2</li><li>2</li><li>2</li><li>2</li><li>2</li><li>2</li><li>2</li><li>2</li><li>2</li><li>2</li><li>2</li><li>2</li><li>2</li><li>2</li><li>2</li><li>2</li><li>2</li><li>2</li><li>2</li><li>2</li><li>2</li><li>2</li><li>2</li><li>2</li><li>2</li><li>2</li><li>2</li><li>2</li><li>2</li><li>2</li><li>2</li><li>2</li><li>2</li><li>2</li><li>2</li><li>2</li><li>2</li><li>2</li><li>2</li><li>2</li><li>2</li><li>2</li><li>2</li><li>2</li><li>2</li><li>2</li><li>2</li><li>2</li><li>2</li><li>2</li><li>2</li><li>2</li><li>2</li><li>2</li><li>2</li><li>2</li><li>2</li><li>2</li><li>2</li><li>2</li><li>2</li><li>2</li><li>2</li><li>2</li><li>2</li><li>2</li><li>2</li><li>2</li><li>2</li><li>2</li><li>2</li><li>2</li><li>2</li><li>2</li><li>2</li><li>2</li><li>2</li><li>2</li><li>2</li><li>2</li><li>2</li><li>2</li><li>2</li><li>2</li><li>2</li><li>2</li><li>2</li><li>2</li><li>2</li><li>2</li><li>2</li><li>2</li><li>2</li><li>2</li><li>2</li><li>2</li><li>2</li><li>2</li><li>2</li><li>2</li><li>2</li><li>2</li><li>2</li><li>2</li><li>2</li><li>2</li><li>2</li><li>2</li><li>2</li><li>2</li><li>2</li><li>2</li><li>2</li><li>2</li><li>2</li><li>2</li><li>2</li><li>2</li><li>2</li><li>2</li><li>2</li><li>2</li><li>2</li><li>2</li><li>2</li><li>2</li><li>2</li><li>2</li><li>2</li><li>2</li><li>2</li><li>2</li><li>2</li><li>2</li><li>2</li><li>2</li><li>2</li><li>2</li><li>2</li><li>2</li><li>2</li><li>2</li><li>2</li><li>2</li><li>2</li><li>2</li><li>2</li><li>2</li><li>2</li><li>2</li><li>2</li><li>2</li><li>2</li><li>2</li><li>2</li><li>2</li><li>2</li><li>2</li><li>2</li><li>2</li><li>2</li><li>2</li><li>2</li><li>2</li><li>2</li><li>2</li><li>2</li><li>2</li><li>3</li><li>3</li><li>3</li><li>3</li><li>3</li><li>3</li><li>3</li><li>3</li><li>3</li><li>3</li><li>3</li><li>3</li><li>3</li><li>3</li><li>3</li><li>3</li><li>3</li><li>3</li><li>3</li><li>3</li><li>3</li><li>3</li><li>3</li><li>3</li><li>3</li><li>3</li><li>3</li><li>3</li><li>3</li><li>3</li><li>3</li><li>3</li><li>3</li><li>3</li><li>3</li><li>3</li><li>3</li><li>3</li><li>3</li><li>3</li><li>3</li><li>3</li><li>3</li><li>3</li><li>3</li><li>3</li><li>3</li><li>3</li><li>3</li><li>3</li><li>3</li><li>3</li><li>3</li><li>3</li><li>3</li><li>3</li><li>3</li><li>3</li><li>3</li><li>3</li><li>3</li><li>3</li><li>3</li><li>3</li><li>3</li><li>3</li><li>3</li><li>3</li><li>3</li><li>3</li><li>3</li><li>3</li><li>3</li><li>3</li><li>3</li><li>3</li><li>3</li><li>3</li><li>3</li><li>3</li><li>3</li><li>3</li><li>3</li><li>3</li><li>3</li><li>3</li><li>3</li><li>3</li><li>3</li><li>3</li><li>3</li><li>3</li><li>3</li><li>3</li><li>3</li><li>3</li><li>3</li><li>3</li><li>3</li><li>3</li></ol>\n"
            ]
          },
          "metadata": {}
        }
      ]
    },
    {
      "cell_type": "code",
      "source": [
        "sueldos=c(rnorm(100,1200,55),rnorm(200,3500,175),rnorm(100,2500,120))"
      ],
      "metadata": {
        "id": "V3ZbX8MIp2uy"
      },
      "execution_count": null,
      "outputs": []
    },
    {
      "cell_type": "code",
      "source": [
        "datos=cbind.data.frame(VarEstratoDepartamento,sueldos)\n",
        "datos"
      ],
      "metadata": {
        "colab": {
          "base_uri": "https://localhost:8080/",
          "height": 1000
        },
        "id": "vub_fT0PqaAk",
        "outputId": "9ac643f5-d503-4045-e427-04b7f9148ae6"
      },
      "execution_count": null,
      "outputs": [
        {
          "output_type": "display_data",
          "data": {
            "text/plain": [
              "    VarEstratoDepartamento sueldos \n",
              "1   1                      1268.415\n",
              "2   1                      1246.095\n",
              "3   1                      1144.536\n",
              "4   1                      1299.729\n",
              "5   1                      1194.753\n",
              "6   1                      1138.618\n",
              "7   1                      1256.042\n",
              "8   1                      1157.014\n",
              "9   1                      1211.752\n",
              "10  1                      1159.622\n",
              "11  1                      1133.810\n",
              "12  1                      1178.845\n",
              "13  1                      1278.920\n",
              "14  1                      1097.492\n",
              "15  1                      1193.253\n",
              "16  1                      1309.108\n",
              "17  1                      1351.115\n",
              "18  1                      1215.490\n",
              "19  1                      1179.689\n",
              "20  1                      1186.346\n",
              "21  1                      1183.250\n",
              "22  1                      1148.442\n",
              "23  1                      1234.128\n",
              "24  1                      1211.622\n",
              "25  1                      1194.050\n",
              "26  1                      1212.846\n",
              "27  1                      1181.285\n",
              "28  1                      1240.236\n",
              "29  1                      1189.053\n",
              "30  1                      1099.083\n",
              "⋮   ⋮                      ⋮       \n",
              "371 3                      2565.016\n",
              "372 3                      2645.188\n",
              "373 3                      2593.972\n",
              "374 3                      2687.051\n",
              "375 3                      2449.529\n",
              "376 3                      2477.639\n",
              "377 3                      2572.980\n",
              "378 3                      2659.700\n",
              "379 3                      2615.453\n",
              "380 3                      2549.249\n",
              "381 3                      2409.325\n",
              "382 3                      2535.235\n",
              "383 3                      2441.938\n",
              "384 3                      2416.241\n",
              "385 3                      2609.072\n",
              "386 3                      2511.173\n",
              "387 3                      2547.588\n",
              "388 3                      2443.926\n",
              "389 3                      2531.966\n",
              "390 3                      2435.749\n",
              "391 3                      2423.754\n",
              "392 3                      2414.341\n",
              "393 3                      2595.304\n",
              "394 3                      2453.569\n",
              "395 3                      2619.090\n",
              "396 3                      2693.002\n",
              "397 3                      2579.131\n",
              "398 3                      2518.706\n",
              "399 3                      2299.786\n",
              "400 3                      2444.119"
            ],
            "text/latex": "A data.frame: 400 × 2\n\\begin{tabular}{ll}\n VarEstratoDepartamento & sueldos\\\\\n <dbl> & <dbl>\\\\\n\\hline\n\t 1 & 1268.415\\\\\n\t 1 & 1246.095\\\\\n\t 1 & 1144.536\\\\\n\t 1 & 1299.729\\\\\n\t 1 & 1194.753\\\\\n\t 1 & 1138.618\\\\\n\t 1 & 1256.042\\\\\n\t 1 & 1157.014\\\\\n\t 1 & 1211.752\\\\\n\t 1 & 1159.622\\\\\n\t 1 & 1133.810\\\\\n\t 1 & 1178.845\\\\\n\t 1 & 1278.920\\\\\n\t 1 & 1097.492\\\\\n\t 1 & 1193.253\\\\\n\t 1 & 1309.108\\\\\n\t 1 & 1351.115\\\\\n\t 1 & 1215.490\\\\\n\t 1 & 1179.689\\\\\n\t 1 & 1186.346\\\\\n\t 1 & 1183.250\\\\\n\t 1 & 1148.442\\\\\n\t 1 & 1234.128\\\\\n\t 1 & 1211.622\\\\\n\t 1 & 1194.050\\\\\n\t 1 & 1212.846\\\\\n\t 1 & 1181.285\\\\\n\t 1 & 1240.236\\\\\n\t 1 & 1189.053\\\\\n\t 1 & 1099.083\\\\\n\t ⋮ & ⋮\\\\\n\t 3 & 2565.016\\\\\n\t 3 & 2645.188\\\\\n\t 3 & 2593.972\\\\\n\t 3 & 2687.051\\\\\n\t 3 & 2449.529\\\\\n\t 3 & 2477.639\\\\\n\t 3 & 2572.980\\\\\n\t 3 & 2659.700\\\\\n\t 3 & 2615.453\\\\\n\t 3 & 2549.249\\\\\n\t 3 & 2409.325\\\\\n\t 3 & 2535.235\\\\\n\t 3 & 2441.938\\\\\n\t 3 & 2416.241\\\\\n\t 3 & 2609.072\\\\\n\t 3 & 2511.173\\\\\n\t 3 & 2547.588\\\\\n\t 3 & 2443.926\\\\\n\t 3 & 2531.966\\\\\n\t 3 & 2435.749\\\\\n\t 3 & 2423.754\\\\\n\t 3 & 2414.341\\\\\n\t 3 & 2595.304\\\\\n\t 3 & 2453.569\\\\\n\t 3 & 2619.090\\\\\n\t 3 & 2693.002\\\\\n\t 3 & 2579.131\\\\\n\t 3 & 2518.706\\\\\n\t 3 & 2299.786\\\\\n\t 3 & 2444.119\\\\\n\\end{tabular}\n",
            "text/markdown": "\nA data.frame: 400 × 2\n\n| VarEstratoDepartamento &lt;dbl&gt; | sueldos &lt;dbl&gt; |\n|---|---|\n| 1 | 1268.415 |\n| 1 | 1246.095 |\n| 1 | 1144.536 |\n| 1 | 1299.729 |\n| 1 | 1194.753 |\n| 1 | 1138.618 |\n| 1 | 1256.042 |\n| 1 | 1157.014 |\n| 1 | 1211.752 |\n| 1 | 1159.622 |\n| 1 | 1133.810 |\n| 1 | 1178.845 |\n| 1 | 1278.920 |\n| 1 | 1097.492 |\n| 1 | 1193.253 |\n| 1 | 1309.108 |\n| 1 | 1351.115 |\n| 1 | 1215.490 |\n| 1 | 1179.689 |\n| 1 | 1186.346 |\n| 1 | 1183.250 |\n| 1 | 1148.442 |\n| 1 | 1234.128 |\n| 1 | 1211.622 |\n| 1 | 1194.050 |\n| 1 | 1212.846 |\n| 1 | 1181.285 |\n| 1 | 1240.236 |\n| 1 | 1189.053 |\n| 1 | 1099.083 |\n| ⋮ | ⋮ |\n| 3 | 2565.016 |\n| 3 | 2645.188 |\n| 3 | 2593.972 |\n| 3 | 2687.051 |\n| 3 | 2449.529 |\n| 3 | 2477.639 |\n| 3 | 2572.980 |\n| 3 | 2659.700 |\n| 3 | 2615.453 |\n| 3 | 2549.249 |\n| 3 | 2409.325 |\n| 3 | 2535.235 |\n| 3 | 2441.938 |\n| 3 | 2416.241 |\n| 3 | 2609.072 |\n| 3 | 2511.173 |\n| 3 | 2547.588 |\n| 3 | 2443.926 |\n| 3 | 2531.966 |\n| 3 | 2435.749 |\n| 3 | 2423.754 |\n| 3 | 2414.341 |\n| 3 | 2595.304 |\n| 3 | 2453.569 |\n| 3 | 2619.090 |\n| 3 | 2693.002 |\n| 3 | 2579.131 |\n| 3 | 2518.706 |\n| 3 | 2299.786 |\n| 3 | 2444.119 |\n\n",
            "text/html": [
              "<table class=\"dataframe\">\n",
              "<caption>A data.frame: 400 × 2</caption>\n",
              "<thead>\n",
              "\t<tr><th scope=col>VarEstratoDepartamento</th><th scope=col>sueldos</th></tr>\n",
              "\t<tr><th scope=col>&lt;dbl&gt;</th><th scope=col>&lt;dbl&gt;</th></tr>\n",
              "</thead>\n",
              "<tbody>\n",
              "\t<tr><td>1</td><td>1268.415</td></tr>\n",
              "\t<tr><td>1</td><td>1246.095</td></tr>\n",
              "\t<tr><td>1</td><td>1144.536</td></tr>\n",
              "\t<tr><td>1</td><td>1299.729</td></tr>\n",
              "\t<tr><td>1</td><td>1194.753</td></tr>\n",
              "\t<tr><td>1</td><td>1138.618</td></tr>\n",
              "\t<tr><td>1</td><td>1256.042</td></tr>\n",
              "\t<tr><td>1</td><td>1157.014</td></tr>\n",
              "\t<tr><td>1</td><td>1211.752</td></tr>\n",
              "\t<tr><td>1</td><td>1159.622</td></tr>\n",
              "\t<tr><td>1</td><td>1133.810</td></tr>\n",
              "\t<tr><td>1</td><td>1178.845</td></tr>\n",
              "\t<tr><td>1</td><td>1278.920</td></tr>\n",
              "\t<tr><td>1</td><td>1097.492</td></tr>\n",
              "\t<tr><td>1</td><td>1193.253</td></tr>\n",
              "\t<tr><td>1</td><td>1309.108</td></tr>\n",
              "\t<tr><td>1</td><td>1351.115</td></tr>\n",
              "\t<tr><td>1</td><td>1215.490</td></tr>\n",
              "\t<tr><td>1</td><td>1179.689</td></tr>\n",
              "\t<tr><td>1</td><td>1186.346</td></tr>\n",
              "\t<tr><td>1</td><td>1183.250</td></tr>\n",
              "\t<tr><td>1</td><td>1148.442</td></tr>\n",
              "\t<tr><td>1</td><td>1234.128</td></tr>\n",
              "\t<tr><td>1</td><td>1211.622</td></tr>\n",
              "\t<tr><td>1</td><td>1194.050</td></tr>\n",
              "\t<tr><td>1</td><td>1212.846</td></tr>\n",
              "\t<tr><td>1</td><td>1181.285</td></tr>\n",
              "\t<tr><td>1</td><td>1240.236</td></tr>\n",
              "\t<tr><td>1</td><td>1189.053</td></tr>\n",
              "\t<tr><td>1</td><td>1099.083</td></tr>\n",
              "\t<tr><td>⋮</td><td>⋮</td></tr>\n",
              "\t<tr><td>3</td><td>2565.016</td></tr>\n",
              "\t<tr><td>3</td><td>2645.188</td></tr>\n",
              "\t<tr><td>3</td><td>2593.972</td></tr>\n",
              "\t<tr><td>3</td><td>2687.051</td></tr>\n",
              "\t<tr><td>3</td><td>2449.529</td></tr>\n",
              "\t<tr><td>3</td><td>2477.639</td></tr>\n",
              "\t<tr><td>3</td><td>2572.980</td></tr>\n",
              "\t<tr><td>3</td><td>2659.700</td></tr>\n",
              "\t<tr><td>3</td><td>2615.453</td></tr>\n",
              "\t<tr><td>3</td><td>2549.249</td></tr>\n",
              "\t<tr><td>3</td><td>2409.325</td></tr>\n",
              "\t<tr><td>3</td><td>2535.235</td></tr>\n",
              "\t<tr><td>3</td><td>2441.938</td></tr>\n",
              "\t<tr><td>3</td><td>2416.241</td></tr>\n",
              "\t<tr><td>3</td><td>2609.072</td></tr>\n",
              "\t<tr><td>3</td><td>2511.173</td></tr>\n",
              "\t<tr><td>3</td><td>2547.588</td></tr>\n",
              "\t<tr><td>3</td><td>2443.926</td></tr>\n",
              "\t<tr><td>3</td><td>2531.966</td></tr>\n",
              "\t<tr><td>3</td><td>2435.749</td></tr>\n",
              "\t<tr><td>3</td><td>2423.754</td></tr>\n",
              "\t<tr><td>3</td><td>2414.341</td></tr>\n",
              "\t<tr><td>3</td><td>2595.304</td></tr>\n",
              "\t<tr><td>3</td><td>2453.569</td></tr>\n",
              "\t<tr><td>3</td><td>2619.090</td></tr>\n",
              "\t<tr><td>3</td><td>2693.002</td></tr>\n",
              "\t<tr><td>3</td><td>2579.131</td></tr>\n",
              "\t<tr><td>3</td><td>2518.706</td></tr>\n",
              "\t<tr><td>3</td><td>2299.786</td></tr>\n",
              "\t<tr><td>3</td><td>2444.119</td></tr>\n",
              "</tbody>\n",
              "</table>\n"
            ]
          },
          "metadata": {}
        }
      ]
    },
    {
      "cell_type": "code",
      "source": [
        "install.packages(\"survey\")"
      ],
      "metadata": {
        "colab": {
          "base_uri": "https://localhost:8080/"
        },
        "id": "CYnhnU7vrpxx",
        "outputId": "48d82017-4192-4eba-c8e3-68f468e05510"
      },
      "execution_count": null,
      "outputs": [
        {
          "output_type": "stream",
          "name": "stderr",
          "text": [
            "Installing package into ‘/usr/local/lib/R/site-library’\n",
            "(as ‘lib’ is unspecified)\n",
            "\n",
            "also installing the dependencies ‘minqa’, ‘numDeriv’, ‘mitools’\n",
            "\n",
            "\n"
          ]
        }
      ]
    },
    {
      "cell_type": "code",
      "source": [
        "library(survey)"
      ],
      "metadata": {
        "colab": {
          "base_uri": "https://localhost:8080/"
        },
        "id": "JUyxMINmr1Do",
        "outputId": "caee8419-13f3-4b56-dd75-16cc0d6bc20e"
      },
      "execution_count": null,
      "outputs": [
        {
          "output_type": "stream",
          "name": "stderr",
          "text": [
            "Loading required package: grid\n",
            "\n",
            "Loading required package: Matrix\n",
            "\n",
            "Loading required package: survival\n",
            "\n",
            "\n",
            "Attaching package: ‘survey’\n",
            "\n",
            "\n",
            "The following object is masked from ‘package:graphics’:\n",
            "\n",
            "    dotchart\n",
            "\n",
            "\n"
          ]
        }
      ]
    },
    {
      "cell_type": "code",
      "source": [
        "install.packages(\"sampling\")"
      ],
      "metadata": {
        "colab": {
          "base_uri": "https://localhost:8080/"
        },
        "id": "0iVIMSmfr_UU",
        "outputId": "f089a775-bc6b-477a-e207-c366a2490437"
      },
      "execution_count": null,
      "outputs": [
        {
          "output_type": "stream",
          "name": "stderr",
          "text": [
            "Installing package into ‘/usr/local/lib/R/site-library’\n",
            "(as ‘lib’ is unspecified)\n",
            "\n",
            "also installing the dependency ‘lpSolve’\n",
            "\n",
            "\n"
          ]
        }
      ]
    },
    {
      "cell_type": "code",
      "source": [
        "library(sampling)"
      ],
      "metadata": {
        "colab": {
          "base_uri": "https://localhost:8080/"
        },
        "id": "QWixBoU9sJCh",
        "outputId": "0008d616-108d-4eec-cef2-8482fa337b8d"
      },
      "execution_count": null,
      "outputs": [
        {
          "output_type": "stream",
          "name": "stderr",
          "text": [
            "\n",
            "Attaching package: ‘sampling’\n",
            "\n",
            "\n",
            "The following objects are masked from ‘package:survival’:\n",
            "\n",
            "    cluster, strata\n",
            "\n",
            "\n"
          ]
        }
      ]
    },
    {
      "cell_type": "markdown",
      "source": [
        "$n=36$\n",
        "\n",
        "$N=400$\n",
        "\n",
        "$N_1=100$\n",
        "\n",
        "$N_2=200$\n",
        "\n",
        "$N_3=100$\n",
        "\n",
        "\n",
        "\n",
        "\n",
        "\n",
        "$n_1=n \\left( \\frac{N_1}{N} \\right)=36 \\left( \\frac{100}{400} \\right)=9$\n",
        "\n",
        "$n_2=n \\left( \\frac{N_2}{N} \\right)=36 \\left( \\frac{200}{400} \\right)=18$\n",
        "\n",
        "$n_3=n \\left( \\frac{N_3}{N} \\right)=36 \\left( \\frac{100}{400} \\right)=9$"
      ],
      "metadata": {
        "id": "pw1oB65FshZB"
      }
    },
    {
      "cell_type": "code",
      "source": [
        "muestra=strata(datos,c(\"VarEstratoDepartamento\"),size=c(9,18,9),method=\"srswor\")\n",
        "muestra"
      ],
      "metadata": {
        "colab": {
          "base_uri": "https://localhost:8080/",
          "height": 1000
        },
        "id": "7Qw4a3QUr_bK",
        "outputId": "d3667eef-be7b-4759-8ec5-e428bf3785fa"
      },
      "execution_count": null,
      "outputs": [
        {
          "output_type": "display_data",
          "data": {
            "text/plain": [
              "    VarEstratoDepartamento ID_unit Prob Stratum\n",
              "2   1                        2     0.09 1      \n",
              "30  1                       30     0.09 1      \n",
              "38  1                       38     0.09 1      \n",
              "54  1                       54     0.09 1      \n",
              "62  1                       62     0.09 1      \n",
              "69  1                       69     0.09 1      \n",
              "78  1                       78     0.09 1      \n",
              "90  1                       90     0.09 1      \n",
              "95  1                       95     0.09 1      \n",
              "104 2                      104     0.09 2      \n",
              "112 2                      112     0.09 2      \n",
              "124 2                      124     0.09 2      \n",
              "129 2                      129     0.09 2      \n",
              "145 2                      145     0.09 2      \n",
              "148 2                      148     0.09 2      \n",
              "151 2                      151     0.09 2      \n",
              "155 2                      155     0.09 2      \n",
              "185 2                      185     0.09 2      \n",
              "193 2                      193     0.09 2      \n",
              "201 2                      201     0.09 2      \n",
              "207 2                      207     0.09 2      \n",
              "209 2                      209     0.09 2      \n",
              "226 2                      226     0.09 2      \n",
              "239 2                      239     0.09 2      \n",
              "264 2                      264     0.09 2      \n",
              "266 2                      266     0.09 2      \n",
              "273 2                      273     0.09 2      \n",
              "303 3                      303     0.09 3      \n",
              "336 3                      336     0.09 3      \n",
              "359 3                      359     0.09 3      \n",
              "362 3                      362     0.09 3      \n",
              "364 3                      364     0.09 3      \n",
              "372 3                      372     0.09 3      \n",
              "378 3                      378     0.09 3      \n",
              "381 3                      381     0.09 3      \n",
              "391 3                      391     0.09 3      "
            ],
            "text/latex": "A data.frame: 36 × 4\n\\begin{tabular}{r|llll}\n  & VarEstratoDepartamento & ID\\_unit & Prob & Stratum\\\\\n  & <dbl> & <int> & <dbl> & <int>\\\\\n\\hline\n\t2 & 1 &   2 & 0.09 & 1\\\\\n\t30 & 1 &  30 & 0.09 & 1\\\\\n\t38 & 1 &  38 & 0.09 & 1\\\\\n\t54 & 1 &  54 & 0.09 & 1\\\\\n\t62 & 1 &  62 & 0.09 & 1\\\\\n\t69 & 1 &  69 & 0.09 & 1\\\\\n\t78 & 1 &  78 & 0.09 & 1\\\\\n\t90 & 1 &  90 & 0.09 & 1\\\\\n\t95 & 1 &  95 & 0.09 & 1\\\\\n\t104 & 2 & 104 & 0.09 & 2\\\\\n\t112 & 2 & 112 & 0.09 & 2\\\\\n\t124 & 2 & 124 & 0.09 & 2\\\\\n\t129 & 2 & 129 & 0.09 & 2\\\\\n\t145 & 2 & 145 & 0.09 & 2\\\\\n\t148 & 2 & 148 & 0.09 & 2\\\\\n\t151 & 2 & 151 & 0.09 & 2\\\\\n\t155 & 2 & 155 & 0.09 & 2\\\\\n\t185 & 2 & 185 & 0.09 & 2\\\\\n\t193 & 2 & 193 & 0.09 & 2\\\\\n\t201 & 2 & 201 & 0.09 & 2\\\\\n\t207 & 2 & 207 & 0.09 & 2\\\\\n\t209 & 2 & 209 & 0.09 & 2\\\\\n\t226 & 2 & 226 & 0.09 & 2\\\\\n\t239 & 2 & 239 & 0.09 & 2\\\\\n\t264 & 2 & 264 & 0.09 & 2\\\\\n\t266 & 2 & 266 & 0.09 & 2\\\\\n\t273 & 2 & 273 & 0.09 & 2\\\\\n\t303 & 3 & 303 & 0.09 & 3\\\\\n\t336 & 3 & 336 & 0.09 & 3\\\\\n\t359 & 3 & 359 & 0.09 & 3\\\\\n\t362 & 3 & 362 & 0.09 & 3\\\\\n\t364 & 3 & 364 & 0.09 & 3\\\\\n\t372 & 3 & 372 & 0.09 & 3\\\\\n\t378 & 3 & 378 & 0.09 & 3\\\\\n\t381 & 3 & 381 & 0.09 & 3\\\\\n\t391 & 3 & 391 & 0.09 & 3\\\\\n\\end{tabular}\n",
            "text/markdown": "\nA data.frame: 36 × 4\n\n| <!--/--> | VarEstratoDepartamento &lt;dbl&gt; | ID_unit &lt;int&gt; | Prob &lt;dbl&gt; | Stratum &lt;int&gt; |\n|---|---|---|---|---|\n| 2 | 1 |   2 | 0.09 | 1 |\n| 30 | 1 |  30 | 0.09 | 1 |\n| 38 | 1 |  38 | 0.09 | 1 |\n| 54 | 1 |  54 | 0.09 | 1 |\n| 62 | 1 |  62 | 0.09 | 1 |\n| 69 | 1 |  69 | 0.09 | 1 |\n| 78 | 1 |  78 | 0.09 | 1 |\n| 90 | 1 |  90 | 0.09 | 1 |\n| 95 | 1 |  95 | 0.09 | 1 |\n| 104 | 2 | 104 | 0.09 | 2 |\n| 112 | 2 | 112 | 0.09 | 2 |\n| 124 | 2 | 124 | 0.09 | 2 |\n| 129 | 2 | 129 | 0.09 | 2 |\n| 145 | 2 | 145 | 0.09 | 2 |\n| 148 | 2 | 148 | 0.09 | 2 |\n| 151 | 2 | 151 | 0.09 | 2 |\n| 155 | 2 | 155 | 0.09 | 2 |\n| 185 | 2 | 185 | 0.09 | 2 |\n| 193 | 2 | 193 | 0.09 | 2 |\n| 201 | 2 | 201 | 0.09 | 2 |\n| 207 | 2 | 207 | 0.09 | 2 |\n| 209 | 2 | 209 | 0.09 | 2 |\n| 226 | 2 | 226 | 0.09 | 2 |\n| 239 | 2 | 239 | 0.09 | 2 |\n| 264 | 2 | 264 | 0.09 | 2 |\n| 266 | 2 | 266 | 0.09 | 2 |\n| 273 | 2 | 273 | 0.09 | 2 |\n| 303 | 3 | 303 | 0.09 | 3 |\n| 336 | 3 | 336 | 0.09 | 3 |\n| 359 | 3 | 359 | 0.09 | 3 |\n| 362 | 3 | 362 | 0.09 | 3 |\n| 364 | 3 | 364 | 0.09 | 3 |\n| 372 | 3 | 372 | 0.09 | 3 |\n| 378 | 3 | 378 | 0.09 | 3 |\n| 381 | 3 | 381 | 0.09 | 3 |\n| 391 | 3 | 391 | 0.09 | 3 |\n\n",
            "text/html": [
              "<table class=\"dataframe\">\n",
              "<caption>A data.frame: 36 × 4</caption>\n",
              "<thead>\n",
              "\t<tr><th></th><th scope=col>VarEstratoDepartamento</th><th scope=col>ID_unit</th><th scope=col>Prob</th><th scope=col>Stratum</th></tr>\n",
              "\t<tr><th></th><th scope=col>&lt;dbl&gt;</th><th scope=col>&lt;int&gt;</th><th scope=col>&lt;dbl&gt;</th><th scope=col>&lt;int&gt;</th></tr>\n",
              "</thead>\n",
              "<tbody>\n",
              "\t<tr><th scope=row>2</th><td>1</td><td>  2</td><td>0.09</td><td>1</td></tr>\n",
              "\t<tr><th scope=row>30</th><td>1</td><td> 30</td><td>0.09</td><td>1</td></tr>\n",
              "\t<tr><th scope=row>38</th><td>1</td><td> 38</td><td>0.09</td><td>1</td></tr>\n",
              "\t<tr><th scope=row>54</th><td>1</td><td> 54</td><td>0.09</td><td>1</td></tr>\n",
              "\t<tr><th scope=row>62</th><td>1</td><td> 62</td><td>0.09</td><td>1</td></tr>\n",
              "\t<tr><th scope=row>69</th><td>1</td><td> 69</td><td>0.09</td><td>1</td></tr>\n",
              "\t<tr><th scope=row>78</th><td>1</td><td> 78</td><td>0.09</td><td>1</td></tr>\n",
              "\t<tr><th scope=row>90</th><td>1</td><td> 90</td><td>0.09</td><td>1</td></tr>\n",
              "\t<tr><th scope=row>95</th><td>1</td><td> 95</td><td>0.09</td><td>1</td></tr>\n",
              "\t<tr><th scope=row>104</th><td>2</td><td>104</td><td>0.09</td><td>2</td></tr>\n",
              "\t<tr><th scope=row>112</th><td>2</td><td>112</td><td>0.09</td><td>2</td></tr>\n",
              "\t<tr><th scope=row>124</th><td>2</td><td>124</td><td>0.09</td><td>2</td></tr>\n",
              "\t<tr><th scope=row>129</th><td>2</td><td>129</td><td>0.09</td><td>2</td></tr>\n",
              "\t<tr><th scope=row>145</th><td>2</td><td>145</td><td>0.09</td><td>2</td></tr>\n",
              "\t<tr><th scope=row>148</th><td>2</td><td>148</td><td>0.09</td><td>2</td></tr>\n",
              "\t<tr><th scope=row>151</th><td>2</td><td>151</td><td>0.09</td><td>2</td></tr>\n",
              "\t<tr><th scope=row>155</th><td>2</td><td>155</td><td>0.09</td><td>2</td></tr>\n",
              "\t<tr><th scope=row>185</th><td>2</td><td>185</td><td>0.09</td><td>2</td></tr>\n",
              "\t<tr><th scope=row>193</th><td>2</td><td>193</td><td>0.09</td><td>2</td></tr>\n",
              "\t<tr><th scope=row>201</th><td>2</td><td>201</td><td>0.09</td><td>2</td></tr>\n",
              "\t<tr><th scope=row>207</th><td>2</td><td>207</td><td>0.09</td><td>2</td></tr>\n",
              "\t<tr><th scope=row>209</th><td>2</td><td>209</td><td>0.09</td><td>2</td></tr>\n",
              "\t<tr><th scope=row>226</th><td>2</td><td>226</td><td>0.09</td><td>2</td></tr>\n",
              "\t<tr><th scope=row>239</th><td>2</td><td>239</td><td>0.09</td><td>2</td></tr>\n",
              "\t<tr><th scope=row>264</th><td>2</td><td>264</td><td>0.09</td><td>2</td></tr>\n",
              "\t<tr><th scope=row>266</th><td>2</td><td>266</td><td>0.09</td><td>2</td></tr>\n",
              "\t<tr><th scope=row>273</th><td>2</td><td>273</td><td>0.09</td><td>2</td></tr>\n",
              "\t<tr><th scope=row>303</th><td>3</td><td>303</td><td>0.09</td><td>3</td></tr>\n",
              "\t<tr><th scope=row>336</th><td>3</td><td>336</td><td>0.09</td><td>3</td></tr>\n",
              "\t<tr><th scope=row>359</th><td>3</td><td>359</td><td>0.09</td><td>3</td></tr>\n",
              "\t<tr><th scope=row>362</th><td>3</td><td>362</td><td>0.09</td><td>3</td></tr>\n",
              "\t<tr><th scope=row>364</th><td>3</td><td>364</td><td>0.09</td><td>3</td></tr>\n",
              "\t<tr><th scope=row>372</th><td>3</td><td>372</td><td>0.09</td><td>3</td></tr>\n",
              "\t<tr><th scope=row>378</th><td>3</td><td>378</td><td>0.09</td><td>3</td></tr>\n",
              "\t<tr><th scope=row>381</th><td>3</td><td>381</td><td>0.09</td><td>3</td></tr>\n",
              "\t<tr><th scope=row>391</th><td>3</td><td>391</td><td>0.09</td><td>3</td></tr>\n",
              "</tbody>\n",
              "</table>\n"
            ]
          },
          "metadata": {}
        }
      ]
    }
  ]
}